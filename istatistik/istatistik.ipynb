{
 "cells": [
  {
   "cell_type": "markdown",
   "id": "101515ac-bed6-4f53-9fb4-b72f53151f49",
   "metadata": {},
   "source": [
    "# Veri Bilimi için İstatistik"
   ]
  },
  {
   "cell_type": "markdown",
   "id": "6971a032-9cfb-484c-940e-0f09bd01342c",
   "metadata": {},
   "source": [
    "## Örnek Teorisi"
   ]
  },
  {
   "cell_type": "code",
   "execution_count": 4,
   "id": "01b7d23a-34a8-4a05-8db9-57e315678c4a",
   "metadata": {},
   "outputs": [],
   "source": [
    "# Bir ilçedeki kişilerin yaşlarına ilişkin bir çıkarımda bulunalım. Bu ilçedeki kişilerin yaş ortalamasını merak ediyoruz.\n",
    "# bu ilçede 10.000 kişi yaşıyor. 100 kişilik bir örneklem çekip bu ilçeyle ilgili tahminde bulunmak istiyoruz. "
   ]
  },
  {
   "cell_type": "code",
   "execution_count": 5,
   "id": "6cdaf785-0e85-4251-b094-16deddfc329a",
   "metadata": {},
   "outputs": [],
   "source": [
    "import numpy as np"
   ]
  },
  {
   "cell_type": "code",
   "execution_count": 6,
   "id": "c9a25189-d6d7-4f36-b999-a37c7d136305",
   "metadata": {},
   "outputs": [],
   "source": [
    "populasyon= np.random.randint(0, 80, 10000)"
   ]
  },
  {
   "cell_type": "code",
   "execution_count": 7,
   "id": "0b58274b-5882-4d5e-a2fa-c44bbde5237c",
   "metadata": {},
   "outputs": [
    {
     "data": {
      "text/plain": [
       "array([14, 34, 61, 64, 28, 17, 58, 43, 41, 50])"
      ]
     },
     "execution_count": 7,
     "metadata": {},
     "output_type": "execute_result"
    }
   ],
   "source": [
    "populasyon[0:10]"
   ]
  },
  {
   "cell_type": "code",
   "execution_count": 8,
   "id": "0cea0ee9-8552-4ed6-91b7-5e9ea7348aaf",
   "metadata": {},
   "outputs": [
    {
     "data": {
      "text/plain": [
       "array([ 2, 77, 11, 65,  7, 11, 52, 57, 66, 68])"
      ]
     },
     "execution_count": 8,
     "metadata": {},
     "output_type": "execute_result"
    }
   ],
   "source": [
    "#orneklem cekimi \n",
    "np.random.seed(115)\n",
    "orneklem = np.random.choice(a=populasyon, size=100)\n",
    "orneklem[0:10]"
   ]
  },
  {
   "cell_type": "code",
   "execution_count": 9,
   "id": "75539177-4d53-4781-8738-f429d79a2397",
   "metadata": {},
   "outputs": [
    {
     "data": {
      "text/plain": [
       "39.44"
      ]
     },
     "execution_count": 9,
     "metadata": {},
     "output_type": "execute_result"
    }
   ],
   "source": [
    "orneklem.mean()"
   ]
  },
  {
   "cell_type": "code",
   "execution_count": 10,
   "id": "ca29244e-a285-476e-8985-030628749f6e",
   "metadata": {},
   "outputs": [
    {
     "data": {
      "text/plain": [
       "39.545"
      ]
     },
     "execution_count": 10,
     "metadata": {},
     "output_type": "execute_result"
    }
   ],
   "source": [
    "populasyon.mean()"
   ]
  },
  {
   "cell_type": "code",
   "execution_count": 11,
   "id": "7272938b-ab4b-4126-9264-1bd296e343b3",
   "metadata": {},
   "outputs": [],
   "source": [
    "#orneklem dagılımı"
   ]
  },
  {
   "cell_type": "code",
   "execution_count": 12,
   "id": "259c466d-14b3-454a-9421-a90c7c32c206",
   "metadata": {},
   "outputs": [],
   "source": [
    "np.random.seed(10)\n",
    "orneklem1 = np.random.choice(a=populasyon, size=100)\n",
    "orneklem2 = np.random.choice(a=populasyon, size=100)\n",
    "orneklem3 = np.random.choice(a=populasyon, size=100)\n",
    "orneklem4 = np.random.choice(a=populasyon, size=100)\n",
    "orneklem5 = np.random.choice(a=populasyon, size=100)\n",
    "orneklem6 = np.random.choice(a=populasyon, size=100)\n",
    "orneklem7 = np.random.choice(a=populasyon, size=100)\n",
    "orneklem8 = np.random.choice(a=populasyon, size=100)\n",
    "orneklem9 = np.random.choice(a=populasyon, size=100)\n",
    "orneklem10 = np.random.choice(a=populasyon, size=100)"
   ]
  },
  {
   "cell_type": "code",
   "execution_count": 13,
   "id": "d1707ffd-5dc1-447a-a19c-c50a2094e0a5",
   "metadata": {},
   "outputs": [
    {
     "data": {
      "text/plain": [
       "39.07"
      ]
     },
     "execution_count": 13,
     "metadata": {},
     "output_type": "execute_result"
    }
   ],
   "source": [
    "(orneklem1.mean() + orneklem2.mean() + orneklem3.mean() + orneklem4.mean() + orneklem5.mean() + \n",
    " orneklem6.mean() + orneklem7.mean() + orneklem8.mean() + orneklem9.mean() + orneklem10.mean()) / 10"
   ]
  },
  {
   "cell_type": "markdown",
   "id": "c8b3e06b-a2a8-47ba-9310-a4a4a6634ec2",
   "metadata": {},
   "source": [
    "## Betimsel İstatistikler"
   ]
  },
  {
   "cell_type": "code",
   "execution_count": 2,
   "id": "c4d535d7-d509-474b-9cf7-b8ed64a0c323",
   "metadata": {},
   "outputs": [
    {
     "data": {
      "text/html": [
       "<div>\n",
       "<style scoped>\n",
       "    .dataframe tbody tr th:only-of-type {\n",
       "        vertical-align: middle;\n",
       "    }\n",
       "\n",
       "    .dataframe tbody tr th {\n",
       "        vertical-align: top;\n",
       "    }\n",
       "\n",
       "    .dataframe thead th {\n",
       "        text-align: right;\n",
       "    }\n",
       "</style>\n",
       "<table border=\"1\" class=\"dataframe\">\n",
       "  <thead>\n",
       "    <tr style=\"text-align: right;\">\n",
       "      <th></th>\n",
       "      <th>total_bill</th>\n",
       "      <th>tip</th>\n",
       "      <th>sex</th>\n",
       "      <th>smoker</th>\n",
       "      <th>day</th>\n",
       "      <th>time</th>\n",
       "      <th>size</th>\n",
       "    </tr>\n",
       "  </thead>\n",
       "  <tbody>\n",
       "    <tr>\n",
       "      <th>0</th>\n",
       "      <td>16.99</td>\n",
       "      <td>1.01</td>\n",
       "      <td>Female</td>\n",
       "      <td>No</td>\n",
       "      <td>Sun</td>\n",
       "      <td>Dinner</td>\n",
       "      <td>2</td>\n",
       "    </tr>\n",
       "    <tr>\n",
       "      <th>1</th>\n",
       "      <td>10.34</td>\n",
       "      <td>1.66</td>\n",
       "      <td>Male</td>\n",
       "      <td>No</td>\n",
       "      <td>Sun</td>\n",
       "      <td>Dinner</td>\n",
       "      <td>3</td>\n",
       "    </tr>\n",
       "    <tr>\n",
       "      <th>2</th>\n",
       "      <td>21.01</td>\n",
       "      <td>3.50</td>\n",
       "      <td>Male</td>\n",
       "      <td>No</td>\n",
       "      <td>Sun</td>\n",
       "      <td>Dinner</td>\n",
       "      <td>3</td>\n",
       "    </tr>\n",
       "    <tr>\n",
       "      <th>3</th>\n",
       "      <td>23.68</td>\n",
       "      <td>3.31</td>\n",
       "      <td>Male</td>\n",
       "      <td>No</td>\n",
       "      <td>Sun</td>\n",
       "      <td>Dinner</td>\n",
       "      <td>2</td>\n",
       "    </tr>\n",
       "    <tr>\n",
       "      <th>4</th>\n",
       "      <td>24.59</td>\n",
       "      <td>3.61</td>\n",
       "      <td>Female</td>\n",
       "      <td>No</td>\n",
       "      <td>Sun</td>\n",
       "      <td>Dinner</td>\n",
       "      <td>4</td>\n",
       "    </tr>\n",
       "  </tbody>\n",
       "</table>\n",
       "</div>"
      ],
      "text/plain": [
       "   total_bill   tip     sex smoker  day    time  size\n",
       "0       16.99  1.01  Female     No  Sun  Dinner     2\n",
       "1       10.34  1.66    Male     No  Sun  Dinner     3\n",
       "2       21.01  3.50    Male     No  Sun  Dinner     3\n",
       "3       23.68  3.31    Male     No  Sun  Dinner     2\n",
       "4       24.59  3.61  Female     No  Sun  Dinner     4"
      ]
     },
     "execution_count": 2,
     "metadata": {},
     "output_type": "execute_result"
    }
   ],
   "source": [
    "import seaborn as sns\n",
    "tips = sns.load_dataset(\"tips\")\n",
    "df = tips.copy()\n",
    "df.head()"
   ]
  },
  {
   "cell_type": "code",
   "execution_count": 3,
   "id": "3d80fa27-9394-4edd-8340-badac0ca88f6",
   "metadata": {},
   "outputs": [
    {
     "data": {
      "text/html": [
       "<div>\n",
       "<style scoped>\n",
       "    .dataframe tbody tr th:only-of-type {\n",
       "        vertical-align: middle;\n",
       "    }\n",
       "\n",
       "    .dataframe tbody tr th {\n",
       "        vertical-align: top;\n",
       "    }\n",
       "\n",
       "    .dataframe thead th {\n",
       "        text-align: right;\n",
       "    }\n",
       "</style>\n",
       "<table border=\"1\" class=\"dataframe\">\n",
       "  <thead>\n",
       "    <tr style=\"text-align: right;\">\n",
       "      <th></th>\n",
       "      <th>count</th>\n",
       "      <th>mean</th>\n",
       "      <th>std</th>\n",
       "      <th>min</th>\n",
       "      <th>25%</th>\n",
       "      <th>50%</th>\n",
       "      <th>75%</th>\n",
       "      <th>max</th>\n",
       "    </tr>\n",
       "  </thead>\n",
       "  <tbody>\n",
       "    <tr>\n",
       "      <th>total_bill</th>\n",
       "      <td>244.0</td>\n",
       "      <td>19.785943</td>\n",
       "      <td>8.902412</td>\n",
       "      <td>3.07</td>\n",
       "      <td>13.3475</td>\n",
       "      <td>17.795</td>\n",
       "      <td>24.1275</td>\n",
       "      <td>50.81</td>\n",
       "    </tr>\n",
       "    <tr>\n",
       "      <th>tip</th>\n",
       "      <td>244.0</td>\n",
       "      <td>2.998279</td>\n",
       "      <td>1.383638</td>\n",
       "      <td>1.00</td>\n",
       "      <td>2.0000</td>\n",
       "      <td>2.900</td>\n",
       "      <td>3.5625</td>\n",
       "      <td>10.00</td>\n",
       "    </tr>\n",
       "    <tr>\n",
       "      <th>size</th>\n",
       "      <td>244.0</td>\n",
       "      <td>2.569672</td>\n",
       "      <td>0.951100</td>\n",
       "      <td>1.00</td>\n",
       "      <td>2.0000</td>\n",
       "      <td>2.000</td>\n",
       "      <td>3.0000</td>\n",
       "      <td>6.00</td>\n",
       "    </tr>\n",
       "  </tbody>\n",
       "</table>\n",
       "</div>"
      ],
      "text/plain": [
       "            count       mean       std   min      25%     50%      75%    max\n",
       "total_bill  244.0  19.785943  8.902412  3.07  13.3475  17.795  24.1275  50.81\n",
       "tip         244.0   2.998279  1.383638  1.00   2.0000   2.900   3.5625  10.00\n",
       "size        244.0   2.569672  0.951100  1.00   2.0000   2.000   3.0000   6.00"
      ]
     },
     "execution_count": 3,
     "metadata": {},
     "output_type": "execute_result"
    }
   ],
   "source": [
    "df.describe().T"
   ]
  },
  {
   "cell_type": "code",
   "execution_count": 4,
   "id": "03363ab0-73ce-4fec-a4bb-6a57429a0be2",
   "metadata": {
    "collapsed": true,
    "jupyter": {
     "outputs_hidden": true
    },
    "tags": []
   },
   "outputs": [
    {
     "name": "stdout",
     "output_type": "stream",
     "text": [
      "Collecting researchpy\n",
      "  Downloading researchpy-0.3.2-py3-none-any.whl (15 kB)\n",
      "Requirement already satisfied: scipy in c:\\users\\lenovo\\anaconda3\\lib\\site-packages (from researchpy) (1.6.2)\n",
      "Requirement already satisfied: pandas in c:\\users\\lenovo\\anaconda3\\lib\\site-packages (from researchpy) (1.2.4)\n",
      "Requirement already satisfied: numpy in c:\\users\\lenovo\\anaconda3\\lib\\site-packages (from researchpy) (1.20.1)\n",
      "Requirement already satisfied: statsmodels in c:\\users\\lenovo\\anaconda3\\lib\\site-packages (from researchpy) (0.12.2)\n",
      "Requirement already satisfied: patsy in c:\\users\\lenovo\\anaconda3\\lib\\site-packages (from researchpy) (0.5.1)\n",
      "Requirement already satisfied: python-dateutil>=2.7.3 in c:\\users\\lenovo\\anaconda3\\lib\\site-packages (from pandas->researchpy) (2.8.1)\n",
      "Requirement already satisfied: pytz>=2017.3 in c:\\users\\lenovo\\anaconda3\\lib\\site-packages (from pandas->researchpy) (2021.1)\n",
      "Requirement already satisfied: six>=1.5 in c:\\users\\lenovo\\anaconda3\\lib\\site-packages (from python-dateutil>=2.7.3->pandas->researchpy) (1.15.0)\n",
      "Installing collected packages: researchpy\n",
      "Successfully installed researchpy-0.3.2\n"
     ]
    }
   ],
   "source": [
    "!pip install researchpy \n",
    "import researchpy as rp"
   ]
  },
  {
   "cell_type": "code",
   "execution_count": 5,
   "id": "ae3d3690-cf12-467c-b55a-2babfb53513e",
   "metadata": {},
   "outputs": [
    {
     "name": "stdout",
     "output_type": "stream",
     "text": [
      "\n",
      "\n"
     ]
    },
    {
     "data": {
      "text/html": [
       "<div>\n",
       "<style scoped>\n",
       "    .dataframe tbody tr th:only-of-type {\n",
       "        vertical-align: middle;\n",
       "    }\n",
       "\n",
       "    .dataframe tbody tr th {\n",
       "        vertical-align: top;\n",
       "    }\n",
       "\n",
       "    .dataframe thead th {\n",
       "        text-align: right;\n",
       "    }\n",
       "</style>\n",
       "<table border=\"1\" class=\"dataframe\">\n",
       "  <thead>\n",
       "    <tr style=\"text-align: right;\">\n",
       "      <th></th>\n",
       "      <th>Variable</th>\n",
       "      <th>N</th>\n",
       "      <th>Mean</th>\n",
       "      <th>SD</th>\n",
       "      <th>SE</th>\n",
       "      <th>95% Conf.</th>\n",
       "      <th>Interval</th>\n",
       "    </tr>\n",
       "  </thead>\n",
       "  <tbody>\n",
       "    <tr>\n",
       "      <th>0</th>\n",
       "      <td>total_bill</td>\n",
       "      <td>244.0</td>\n",
       "      <td>19.7859</td>\n",
       "      <td>8.9024</td>\n",
       "      <td>0.5699</td>\n",
       "      <td>18.6633</td>\n",
       "      <td>20.9086</td>\n",
       "    </tr>\n",
       "    <tr>\n",
       "      <th>1</th>\n",
       "      <td>tip</td>\n",
       "      <td>244.0</td>\n",
       "      <td>2.9983</td>\n",
       "      <td>1.3836</td>\n",
       "      <td>0.0886</td>\n",
       "      <td>2.8238</td>\n",
       "      <td>3.1728</td>\n",
       "    </tr>\n",
       "    <tr>\n",
       "      <th>2</th>\n",
       "      <td>size</td>\n",
       "      <td>244.0</td>\n",
       "      <td>2.5697</td>\n",
       "      <td>0.9511</td>\n",
       "      <td>0.0609</td>\n",
       "      <td>2.4497</td>\n",
       "      <td>2.6896</td>\n",
       "    </tr>\n",
       "  </tbody>\n",
       "</table>\n",
       "</div>"
      ],
      "text/plain": [
       "     Variable      N     Mean      SD      SE  95% Conf.  Interval\n",
       "0  total_bill  244.0  19.7859  8.9024  0.5699    18.6633   20.9086\n",
       "1         tip  244.0   2.9983  1.3836  0.0886     2.8238    3.1728\n",
       "2        size  244.0   2.5697  0.9511  0.0609     2.4497    2.6896"
      ]
     },
     "execution_count": 5,
     "metadata": {},
     "output_type": "execute_result"
    }
   ],
   "source": [
    "rp.summary_cont(df[[\"total_bill\",\"tip\",\"size\"]])"
   ]
  },
  {
   "cell_type": "code",
   "execution_count": 7,
   "id": "2df02975-8cf7-4fe2-8508-bb3c51a0d367",
   "metadata": {},
   "outputs": [
    {
     "data": {
      "text/html": [
       "<div>\n",
       "<style scoped>\n",
       "    .dataframe tbody tr th:only-of-type {\n",
       "        vertical-align: middle;\n",
       "    }\n",
       "\n",
       "    .dataframe tbody tr th {\n",
       "        vertical-align: top;\n",
       "    }\n",
       "\n",
       "    .dataframe thead th {\n",
       "        text-align: right;\n",
       "    }\n",
       "</style>\n",
       "<table border=\"1\" class=\"dataframe\">\n",
       "  <thead>\n",
       "    <tr style=\"text-align: right;\">\n",
       "      <th></th>\n",
       "      <th>Variable</th>\n",
       "      <th>Outcome</th>\n",
       "      <th>Count</th>\n",
       "      <th>Percent</th>\n",
       "    </tr>\n",
       "  </thead>\n",
       "  <tbody>\n",
       "    <tr>\n",
       "      <th>0</th>\n",
       "      <td>sex</td>\n",
       "      <td>Male</td>\n",
       "      <td>157</td>\n",
       "      <td>64.34</td>\n",
       "    </tr>\n",
       "    <tr>\n",
       "      <th>1</th>\n",
       "      <td></td>\n",
       "      <td>Female</td>\n",
       "      <td>87</td>\n",
       "      <td>35.66</td>\n",
       "    </tr>\n",
       "    <tr>\n",
       "      <th>2</th>\n",
       "      <td>smoker</td>\n",
       "      <td>No</td>\n",
       "      <td>151</td>\n",
       "      <td>61.89</td>\n",
       "    </tr>\n",
       "    <tr>\n",
       "      <th>3</th>\n",
       "      <td></td>\n",
       "      <td>Yes</td>\n",
       "      <td>93</td>\n",
       "      <td>38.11</td>\n",
       "    </tr>\n",
       "    <tr>\n",
       "      <th>4</th>\n",
       "      <td>day</td>\n",
       "      <td>Sat</td>\n",
       "      <td>87</td>\n",
       "      <td>35.66</td>\n",
       "    </tr>\n",
       "    <tr>\n",
       "      <th>5</th>\n",
       "      <td></td>\n",
       "      <td>Sun</td>\n",
       "      <td>76</td>\n",
       "      <td>31.15</td>\n",
       "    </tr>\n",
       "    <tr>\n",
       "      <th>6</th>\n",
       "      <td></td>\n",
       "      <td>Thur</td>\n",
       "      <td>62</td>\n",
       "      <td>25.41</td>\n",
       "    </tr>\n",
       "    <tr>\n",
       "      <th>7</th>\n",
       "      <td></td>\n",
       "      <td>Fri</td>\n",
       "      <td>19</td>\n",
       "      <td>7.79</td>\n",
       "    </tr>\n",
       "  </tbody>\n",
       "</table>\n",
       "</div>"
      ],
      "text/plain": [
       "  Variable Outcome  Count  Percent\n",
       "0      sex    Male    157    64.34\n",
       "1           Female     87    35.66\n",
       "2   smoker      No    151    61.89\n",
       "3              Yes     93    38.11\n",
       "4      day     Sat     87    35.66\n",
       "5              Sun     76    31.15\n",
       "6             Thur     62    25.41\n",
       "7              Fri     19     7.79"
      ]
     },
     "execution_count": 7,
     "metadata": {},
     "output_type": "execute_result"
    }
   ],
   "source": [
    "rp.summary_cat(df[[\"sex\",\"smoker\",\"day\"]])"
   ]
  },
  {
   "cell_type": "code",
   "execution_count": 8,
   "id": "4a22e7be-1aa9-4c62-8993-51b7fbfa0f19",
   "metadata": {},
   "outputs": [
    {
     "data": {
      "text/html": [
       "<div>\n",
       "<style scoped>\n",
       "    .dataframe tbody tr th:only-of-type {\n",
       "        vertical-align: middle;\n",
       "    }\n",
       "\n",
       "    .dataframe tbody tr th {\n",
       "        vertical-align: top;\n",
       "    }\n",
       "\n",
       "    .dataframe thead th {\n",
       "        text-align: right;\n",
       "    }\n",
       "</style>\n",
       "<table border=\"1\" class=\"dataframe\">\n",
       "  <thead>\n",
       "    <tr style=\"text-align: right;\">\n",
       "      <th></th>\n",
       "      <th>tip</th>\n",
       "      <th>total_bill</th>\n",
       "    </tr>\n",
       "  </thead>\n",
       "  <tbody>\n",
       "    <tr>\n",
       "      <th>tip</th>\n",
       "      <td>1.914455</td>\n",
       "      <td>8.323502</td>\n",
       "    </tr>\n",
       "    <tr>\n",
       "      <th>total_bill</th>\n",
       "      <td>8.323502</td>\n",
       "      <td>79.252939</td>\n",
       "    </tr>\n",
       "  </tbody>\n",
       "</table>\n",
       "</div>"
      ],
      "text/plain": [
       "                 tip  total_bill\n",
       "tip         1.914455    8.323502\n",
       "total_bill  8.323502   79.252939"
      ]
     },
     "execution_count": 8,
     "metadata": {},
     "output_type": "execute_result"
    }
   ],
   "source": [
    "df[[\"tip\",\"total_bill\"]].cov()"
   ]
  },
  {
   "cell_type": "code",
   "execution_count": 9,
   "id": "c727fdcf-87f1-48c9-a4e8-082f8d293ab7",
   "metadata": {},
   "outputs": [
    {
     "data": {
      "text/html": [
       "<div>\n",
       "<style scoped>\n",
       "    .dataframe tbody tr th:only-of-type {\n",
       "        vertical-align: middle;\n",
       "    }\n",
       "\n",
       "    .dataframe tbody tr th {\n",
       "        vertical-align: top;\n",
       "    }\n",
       "\n",
       "    .dataframe thead th {\n",
       "        text-align: right;\n",
       "    }\n",
       "</style>\n",
       "<table border=\"1\" class=\"dataframe\">\n",
       "  <thead>\n",
       "    <tr style=\"text-align: right;\">\n",
       "      <th></th>\n",
       "      <th>tip</th>\n",
       "      <th>total_bill</th>\n",
       "    </tr>\n",
       "  </thead>\n",
       "  <tbody>\n",
       "    <tr>\n",
       "      <th>tip</th>\n",
       "      <td>1.000000</td>\n",
       "      <td>0.675734</td>\n",
       "    </tr>\n",
       "    <tr>\n",
       "      <th>total_bill</th>\n",
       "      <td>0.675734</td>\n",
       "      <td>1.000000</td>\n",
       "    </tr>\n",
       "  </tbody>\n",
       "</table>\n",
       "</div>"
      ],
      "text/plain": [
       "                 tip  total_bill\n",
       "tip         1.000000    0.675734\n",
       "total_bill  0.675734    1.000000"
      ]
     },
     "execution_count": 9,
     "metadata": {},
     "output_type": "execute_result"
    }
   ],
   "source": [
    "df[[\"tip\",\"total_bill\"]].corr()"
   ]
  },
  {
   "cell_type": "markdown",
   "id": "36fd5f17-7b5f-4ab8-8a05-b061afe8d3d1",
   "metadata": {},
   "source": [
    "## Güven Aralığı"
   ]
  },
  {
   "cell_type": "markdown",
   "id": "be2c7f4f-5ab0-4fd7-bbfe-904e00f25206",
   "metadata": {},
   "source": [
    "### İş Uygulaması: Fiyat Stratejisi Karar Destek Sistemi"
   ]
  },
  {
   "cell_type": "markdown",
   "id": "10959cfa-3bed-4bb1-a150-df139eac6498",
   "metadata": {},
   "source": [
    "problem: \n",
    "CEO fiyat belirleme konusunda bilimsel bir dayanak ve esneklik istiyor"
   ]
  },
  {
   "cell_type": "markdown",
   "id": "0724c3ce-6108-4a72-a21f-f4478ac65a6b",
   "metadata": {},
   "source": [
    "detaylar:\n",
    "\n",
    "Satıcı, alıcı ve bir ürün var.\n",
    "\n",
    "Alıcılara ürüne ne kadar ücret öderdiniz diye soruluyor.\n",
    "\n",
    "Optimum fiyat bilimsel ve esnek olarak bulunmak isteniyor"
   ]
  },
  {
   "cell_type": "code",
   "execution_count": 10,
   "id": "c5d3a868-4aae-461a-abf5-98d7322e9781",
   "metadata": {},
   "outputs": [],
   "source": [
    "import numpy as np\n",
    "fiyatlar = np.random.randint(10, 110,1000)"
   ]
  },
  {
   "cell_type": "code",
   "execution_count": 11,
   "id": "afc2a24c-82a6-4860-b2af-1aa03de1c9fa",
   "metadata": {},
   "outputs": [
    {
     "data": {
      "text/plain": [
       "60.099"
      ]
     },
     "execution_count": 11,
     "metadata": {},
     "output_type": "execute_result"
    }
   ],
   "source": [
    "fiyatlar.mean()"
   ]
  },
  {
   "cell_type": "code",
   "execution_count": 12,
   "id": "5e3fa81f-0ce7-48cd-af16-2bb6d843ec44",
   "metadata": {},
   "outputs": [],
   "source": [
    "import statsmodels.stats.api as sms"
   ]
  },
  {
   "cell_type": "code",
   "execution_count": 13,
   "id": "4204ba69-563c-490d-9607-ec428fc23183",
   "metadata": {},
   "outputs": [
    {
     "data": {
      "text/plain": [
       "(58.31527647376646, 61.882723526233534)"
      ]
     },
     "execution_count": 13,
     "metadata": {},
     "output_type": "execute_result"
    }
   ],
   "source": [
    "sms.DescrStatsW(fiyatlar).tconfint_mean()"
   ]
  },
  {
   "cell_type": "markdown",
   "id": "671cd5da-557a-402b-a44f-4cb71e13d35c",
   "metadata": {},
   "source": [
    "# Olasılık Dağılımları"
   ]
  },
  {
   "cell_type": "markdown",
   "id": "f858d77a-95c9-47bb-87c8-0036948efabe",
   "metadata": {},
   "source": [
    "## Bernoulli Dağılımı"
   ]
  },
  {
   "cell_type": "code",
   "execution_count": 1,
   "id": "2d1d97a5-dd9d-41e5-8cb4-cea1a04b958b",
   "metadata": {},
   "outputs": [],
   "source": [
    "from scipy.stats import bernoulli"
   ]
  },
  {
   "cell_type": "code",
   "execution_count": 2,
   "id": "4063c55c-93c5-40ce-940a-217d5fc77fad",
   "metadata": {},
   "outputs": [],
   "source": [
    "p = 0.6"
   ]
  },
  {
   "cell_type": "code",
   "execution_count": 3,
   "id": "88436e05-6361-404f-8a46-7b50a1d71504",
   "metadata": {},
   "outputs": [
    {
     "data": {
      "text/plain": [
       "0.6"
      ]
     },
     "execution_count": 3,
     "metadata": {},
     "output_type": "execute_result"
    }
   ],
   "source": [
    "rv = bernoulli(p)\n",
    "rv.pmf(k=1)"
   ]
  },
  {
   "cell_type": "markdown",
   "id": "b53ef037-45d3-42b1-b94d-7e5fec13eafe",
   "metadata": {},
   "source": [
    "## Büyük Sayılar Yasası"
   ]
  },
  {
   "cell_type": "markdown",
   "id": "c639db65-e1f8-4271-af6d-2b2d4aa71174",
   "metadata": {},
   "source": [
    "Bir rassal değişkenin uzun vadeli kararlılığını tanımlayan olasılık teoremidir."
   ]
  },
  {
   "cell_type": "code",
   "execution_count": 6,
   "id": "adb37de3-5079-4e92-8b15-49d9b690ab93",
   "metadata": {},
   "outputs": [
    {
     "name": "stdout",
     "output_type": "stream",
     "text": [
      "Atış Sayısı: 2 --- Yazı Olasılığı: 50.00\n",
      "Atış Sayısı: 4 --- Yazı Olasılığı: 0.00\n",
      "Atış Sayısı: 8 --- Yazı Olasılığı: 62.50\n",
      "Atış Sayısı: 16 --- Yazı Olasılığı: 43.75\n",
      "Atış Sayısı: 32 --- Yazı Olasılığı: 46.88\n",
      "Atış Sayısı: 64 --- Yazı Olasılığı: 56.25\n",
      "Atış Sayısı: 128 --- Yazı Olasılığı: 50.78\n",
      "Atış Sayısı: 256 --- Yazı Olasılığı: 52.73\n",
      "Atış Sayısı: 512 --- Yazı Olasılığı: 52.93\n",
      "Atış Sayısı: 1024 --- Yazı Olasılığı: 50.20\n",
      "Atış Sayısı: 2048 --- Yazı Olasılığı: 48.58\n",
      "Atış Sayısı: 4096 --- Yazı Olasılığı: 49.49\n",
      "Atış Sayısı: 8192 --- Yazı Olasılığı: 49.58\n",
      "Atış Sayısı: 16384 --- Yazı Olasılığı: 49.96\n",
      "Atış Sayısı: 32768 --- Yazı Olasılığı: 50.00\n",
      "Atış Sayısı: 65536 --- Yazı Olasılığı: 49.68\n",
      "Atış Sayısı: 131072 --- Yazı Olasılığı: 49.97\n",
      "Atış Sayısı: 262144 --- Yazı Olasılığı: 50.13\n",
      "Atış Sayısı: 524288 --- Yazı Olasılığı: 50.01\n",
      "Atış Sayısı: 1048576 --- Yazı Olasılığı: 50.09\n"
     ]
    }
   ],
   "source": [
    "import numpy as np\n",
    "rng = np.random.RandomState(123)\n",
    "for i in np.arange(1,21):\n",
    "    deney_sayisi = 2**i\n",
    "    yazi_turalar = rng.randint(0, 2, size = deney_sayisi)\n",
    "    yazi_olasiliklari = np.mean(yazi_turalar)\n",
    "    print(\"Atış Sayısı:\",deney_sayisi,\"---\",\"Yazı Olasılığı: %.2f\" % (yazi_olasiliklari * 100))"
   ]
  },
  {
   "cell_type": "markdown",
   "id": "61a79742-0011-46af-8b5a-2d787923ab69",
   "metadata": {},
   "source": [
    "# Binom Dağılım"
   ]
  },
  {
   "cell_type": "code",
   "execution_count": 7,
   "id": "68231516-f093-467d-beaf-4f476ff2a290",
   "metadata": {},
   "outputs": [],
   "source": [
    "from scipy.stats import binom"
   ]
  },
  {
   "cell_type": "code",
   "execution_count": 8,
   "id": "06a36ac9-ddce-41d9-b5c5-5b03cdf48a87",
   "metadata": {},
   "outputs": [
    {
     "name": "stdout",
     "output_type": "stream",
     "text": [
      "0.36972963764971983\n",
      "0.0028977871237616114\n",
      "7.006035693977161e-08\n"
     ]
    }
   ],
   "source": [
    "p = 0.01\n",
    "n = 100\n",
    "rv = binom(n,p)\n",
    "print(rv.pmf(1))\n",
    "print(rv.pmf(5))\n",
    "print(rv.pmf(10))"
   ]
  },
  {
   "cell_type": "markdown",
   "id": "ffb0925c-6800-4be8-875e-1ee977b13745",
   "metadata": {},
   "source": [
    "# Poisson Dağılımı"
   ]
  },
  {
   "cell_type": "code",
   "execution_count": 10,
   "id": "871771ad-86f2-4278-a9bf-2c4895977e0a",
   "metadata": {},
   "outputs": [],
   "source": [
    "from scipy.stats import poisson"
   ]
  },
  {
   "cell_type": "code",
   "execution_count": 16,
   "id": "fc2c6698-b446-42c9-b225-f007d6d351bd",
   "metadata": {},
   "outputs": [],
   "source": [
    "lambda_ = 0.1"
   ]
  },
  {
   "cell_type": "code",
   "execution_count": 18,
   "id": "acdcc1bf-0c66-482c-a8c5-2a2b8978f176",
   "metadata": {},
   "outputs": [
    {
     "name": "stdout",
     "output_type": "stream",
     "text": [
      "0.9048374180359595\n"
     ]
    }
   ],
   "source": [
    "rv = poisson(mu = lambda_)\n",
    "print(rv.pmf(k = 0))\n"
   ]
  },
  {
   "cell_type": "code",
   "execution_count": 19,
   "id": "07f6081c-7039-45fa-8be3-656158458d83",
   "metadata": {},
   "outputs": [
    {
     "name": "stdout",
     "output_type": "stream",
     "text": [
      "0.00015080623633932676\n"
     ]
    }
   ],
   "source": [
    "print(rv.pmf(k=3))"
   ]
  },
  {
   "cell_type": "code",
   "execution_count": 20,
   "id": "54fde9bc-afdb-4f5e-b1a7-3cf98babc246",
   "metadata": {},
   "outputs": [
    {
     "name": "stdout",
     "output_type": "stream",
     "text": [
      "7.54031181696634e-08\n"
     ]
    }
   ],
   "source": [
    "print(rv.pmf(k=5))"
   ]
  },
  {
   "cell_type": "markdown",
   "id": "219ecf32-3469-455b-8123-f974920905cf",
   "metadata": {},
   "source": [
    "# Normal Dağılım"
   ]
  },
  {
   "cell_type": "code",
   "execution_count": 22,
   "id": "751e7c66-8135-432b-b6da-bae3b5e80141",
   "metadata": {},
   "outputs": [],
   "source": [
    "from scipy.stats import norm"
   ]
  },
  {
   "cell_type": "code",
   "execution_count": 23,
   "id": "3afec2ef-ae8d-410c-b200-4dd88b5257b7",
   "metadata": {},
   "outputs": [],
   "source": [
    "# 90'dan fazla olma olasılığı"
   ]
  },
  {
   "cell_type": "code",
   "execution_count": 27,
   "id": "d1c12663-9458-470c-8b47-49c1654c93f9",
   "metadata": {},
   "outputs": [
    {
     "data": {
      "text/plain": [
       "0.02275013194817921"
      ]
     },
     "execution_count": 27,
     "metadata": {},
     "output_type": "execute_result"
    }
   ],
   "source": [
    "1-norm.cdf(90, 80, 5) #90'dan fazla olma olasılığını hesaplayabilmek için 1'den çıkardık"
   ]
  },
  {
   "cell_type": "code",
   "execution_count": 25,
   "id": "7be4995a-fc4e-41bb-96e1-dd347cf25244",
   "metadata": {},
   "outputs": [],
   "source": [
    "#70'den fazla olma olasılığı"
   ]
  },
  {
   "cell_type": "code",
   "execution_count": 28,
   "id": "2aa95241-d29e-48d5-97c8-510588d9019c",
   "metadata": {},
   "outputs": [
    {
     "data": {
      "text/plain": [
       "0.9772498680518208"
      ]
     },
     "execution_count": 28,
     "metadata": {},
     "output_type": "execute_result"
    }
   ],
   "source": [
    "1-norm.cdf(70, 80, 5)"
   ]
  },
  {
   "cell_type": "code",
   "execution_count": 29,
   "id": "0681fe07-5a8f-4527-9518-b5869f709067",
   "metadata": {},
   "outputs": [],
   "source": [
    "#73'den az olması"
   ]
  },
  {
   "cell_type": "code",
   "execution_count": 30,
   "id": "3769ac8f-8946-4437-b79b-57e1cd9a7228",
   "metadata": {},
   "outputs": [
    {
     "data": {
      "text/plain": [
       "0.08075665923377107"
      ]
     },
     "execution_count": 30,
     "metadata": {},
     "output_type": "execute_result"
    }
   ],
   "source": [
    "norm.cdf(73, 80, 5)"
   ]
  },
  {
   "cell_type": "code",
   "execution_count": 31,
   "id": "fe37fdc9-8a7e-47fb-9da5-f7c96b2ff19b",
   "metadata": {},
   "outputs": [],
   "source": [
    "#85 ile 90 arasında olması"
   ]
  },
  {
   "cell_type": "code",
   "execution_count": 32,
   "id": "65fefe2f-5d4b-4378-97a8-dbb20d011abd",
   "metadata": {},
   "outputs": [
    {
     "data": {
      "text/plain": [
       "0.13590512198327787"
      ]
     },
     "execution_count": 32,
     "metadata": {},
     "output_type": "execute_result"
    }
   ],
   "source": [
    "norm.cdf(90, 80, 5) - norm.cdf(85, 80, 5)"
   ]
  },
  {
   "cell_type": "markdown",
   "id": "d6666d94-4b6c-4666-b7ea-a3f3a00d2ac3",
   "metadata": {},
   "source": [
    "# İş Uygulaması: Web Sitersinde Geçirilen Sürenin Testi"
   ]
  },
  {
   "cell_type": "markdown",
   "id": "84612c95-c650-451b-8167-f9440111a12d",
   "metadata": {},
   "source": [
    "Problem: Web sistemizde geçirilen ortalama süre gerçekten 170 saniye mi?\n",
    "\n",
    "Detaylar:\n",
    "\n",
    "--> Yazılımlardan elde edilen web sitesinde geçirilen ort. süreler var.\n",
    "\n",
    "--> Bu veriler incelendiğinde bir yönetici ya da çalışanımmız bu değerlerin \n",
    "böyle olmadıklarına yönelik düşünceler taşıyor ve bu durumu test etmek istiyorlar."
   ]
  },
  {
   "cell_type": "code",
   "execution_count": 7,
   "id": "b4d37ee9-7973-495c-ac36-f6280846a6ae",
   "metadata": {},
   "outputs": [],
   "source": [
    "import pandas as pd\n",
    "import numpy as np \n",
    "olcumler = np.array([17,160,234,149,145,107,197,75,201,225,211,119,\n",
    "                    157,145,127,244,163,114,145,65,112,185,202,146,\n",
    "                    203,224,203,114,188,156,187,154,177,95,165,50,110,\n",
    "                    216,138,151,166,135,155,84,251,173,131,207,121,120])"
   ]
  },
  {
   "cell_type": "code",
   "execution_count": 2,
   "id": "f613dbec-6e5b-4f8f-b670-1d94c6f837e4",
   "metadata": {},
   "outputs": [
    {
     "data": {
      "text/plain": [
       "array([ 17, 160, 234, 149, 145, 107, 197,  75, 201, 225])"
      ]
     },
     "execution_count": 2,
     "metadata": {},
     "output_type": "execute_result"
    }
   ],
   "source": [
    "olcumler[0:10]"
   ]
  },
  {
   "cell_type": "code",
   "execution_count": 3,
   "id": "7d0c7fe3-cb55-491b-9cd2-5ad250d9b620",
   "metadata": {},
   "outputs": [],
   "source": [
    "import scipy.stats as stats"
   ]
  },
  {
   "cell_type": "code",
   "execution_count": 4,
   "id": "df8fc824-753c-4baa-a9f2-682be8ccca86",
   "metadata": {},
   "outputs": [
    {
     "data": {
      "text/plain": [
       "DescribeResult(nobs=50, minmax=(17, 251), mean=154.38, variance=2578.0363265306123, skewness=-0.32398897278694483, kurtosis=-0.05849823498415985)"
      ]
     },
     "execution_count": 4,
     "metadata": {},
     "output_type": "execute_result"
    }
   ],
   "source": [
    "stats.describe(olcumler)"
   ]
  },
  {
   "cell_type": "code",
   "execution_count": 5,
   "id": "951d37a7-4329-4a35-b64f-bacfe275e56f",
   "metadata": {},
   "outputs": [],
   "source": [
    "#varsayımlar\n",
    "#normallik varsayımı"
   ]
  },
  {
   "cell_type": "code",
   "execution_count": 10,
   "id": "b3c9c769-d316-4fc5-a2b6-dd56c2647419",
   "metadata": {},
   "outputs": [
    {
     "data": {
      "image/png": "[encoded data removed]",
      "text/plain": [
       "<Figure size 432x288 with 1 Axes>"
      ]
     },
     "metadata": {
      "needs_background": "light"
     },
     "output_type": "display_data"
    }
   ],
   "source": [
    "#histogram\n",
    "pd.DataFrame(olcumler).plot.hist();"
   ]
  },
  {
   "cell_type": "code",
   "execution_count": 14,
   "id": "d391ce2d-7a0a-49c3-bb81-9382c078fd43",
   "metadata": {},
   "outputs": [
    {
     "data": {
      "image/png": "[encoded data removed]",
      "text/plain": [
       "<Figure size 432x288 with 1 Axes>"
      ]
     },
     "metadata": {
      "needs_background": "light"
     },
     "output_type": "display_data"
    }
   ],
   "source": [
    "#qqplot\n",
    "import pylab\n",
    "stats.probplot(olcumler, dist=\"norm\", plot=pylab)\n",
    "pylab.show()"
   ]
  },
  {
   "cell_type": "code",
   "execution_count": 15,
   "id": "4d7cfa7b-7506-44ec-9215-594be2d50fc2",
   "metadata": {},
   "outputs": [],
   "source": [
    "# Shapiro-Wilks Testi"
   ]
  },
  {
   "cell_type": "markdown",
   "id": "ec8e13f3-e665-4b18-965f-ce5bcb83ff3a",
   "metadata": {},
   "source": [
    "H0: Örnek dağılımı ile teorik normal dağılım arasında istatistiksel olarak anlamlı birfark yoktur.\n",
    "\n",
    "H1: ... fark vardır."
   ]
  },
  {
   "cell_type": "code",
   "execution_count": 16,
   "id": "3b84f4f1-259f-48d2-bfee-26c5dd9e1939",
   "metadata": {},
   "outputs": [],
   "source": [
    "from scipy.stats import shapiro"
   ]
  },
  {
   "cell_type": "code",
   "execution_count": 17,
   "id": "259ef335-53ab-4b98-b5f7-3517fba56d48",
   "metadata": {},
   "outputs": [
    {
     "data": {
      "text/plain": [
       "ShapiroResult(statistic=0.9853105545043945, pvalue=0.7848747968673706)"
      ]
     },
     "execution_count": 17,
     "metadata": {},
     "output_type": "execute_result"
    }
   ],
   "source": [
    "shapiro(olcumler)"
   ]
  },
  {
   "cell_type": "code",
   "execution_count": 18,
   "id": "293eb249-2170-4c9e-8307-4f2b33257f69",
   "metadata": {},
   "outputs": [],
   "source": [
    "#Hipotez testinin uygulanması"
   ]
  },
  {
   "cell_type": "code",
   "execution_count": 19,
   "id": "872be08c-d0f5-45e8-9660-846d03b0aee4",
   "metadata": {},
   "outputs": [
    {
     "data": {
      "text/plain": [
       "Ttest_1sampResult(statistic=-2.1753117985877966, pvalue=0.034460415195071446)"
      ]
     },
     "execution_count": 19,
     "metadata": {},
     "output_type": "execute_result"
    }
   ],
   "source": [
    "stats.ttest_1samp(olcumler, popmean = 170)"
   ]
  },
  {
   "cell_type": "markdown",
   "id": "fa9053ed-a149-4a5a-981d-d6e09eeb331f",
   "metadata": {},
   "source": [
    "H0: Web sitemizde geçirilen ortalama süre 170'tir\n",
    "\n",
    "H1: ... değildir"
   ]
  },
  {
   "cell_type": "markdown",
   "id": "559bcace-b981-4ff7-81fa-a954a4b7878f",
   "metadata": {},
   "source": [
    "# Nonparametrik Tek Örneklem Testi"
   ]
  },
  {
   "cell_type": "code",
   "execution_count": 20,
   "id": "623f7470-7462-4456-b14e-20fb977e4450",
   "metadata": {},
   "outputs": [],
   "source": [
    "from statsmodels.stats.descriptivestats import sign_test"
   ]
  },
  {
   "cell_type": "code",
   "execution_count": 21,
   "id": "eac42750-c018-43d1-bfc2-2a4058aef060",
   "metadata": {},
   "outputs": [
    {
     "data": {
      "text/plain": [
       "(-7.0, 0.06490864707227219)"
      ]
     },
     "execution_count": 21,
     "metadata": {},
     "output_type": "execute_result"
    }
   ],
   "source": [
    "sign_test(olcumler, 170)"
   ]
  },
  {
   "cell_type": "markdown",
   "id": "d5c5f226-ef52-40b2-a876-4bfc798f7a75",
   "metadata": {},
   "source": [
    "# Tek Örneklem Oran Testi"
   ]
  },
  {
   "cell_type": "markdown",
   "id": "140954c2-caeb-4e97-9177-7b52b2077c65",
   "metadata": {},
   "source": [
    "H0: p = 0.125\n",
    "\n",
    "H1: p != 0.125"
   ]
  },
  {
   "cell_type": "code",
   "execution_count": 1,
   "id": "c01a53ec-fab1-4aa2-a674-100b6b7fcf38",
   "metadata": {},
   "outputs": [],
   "source": [
    "from statsmodels.stats.proportion import proportions_ztest "
   ]
  },
  {
   "cell_type": "code",
   "execution_count": 2,
   "id": "58e416ab-5cec-440c-9b70-d367621a772c",
   "metadata": {},
   "outputs": [],
   "source": [
    "count = 40\n",
    "nobs = 500 #nbos = gözlem\n",
    "value = 0.125"
   ]
  },
  {
   "cell_type": "code",
   "execution_count": 3,
   "id": "d2e4f4a3-a0eb-42f0-a8ff-1e6e905ad893",
   "metadata": {},
   "outputs": [
    {
     "data": {
      "text/plain": [
       "(-3.7090151628513017, 0.0002080669689845979)"
      ]
     },
     "execution_count": 3,
     "metadata": {},
     "output_type": "execute_result"
    }
   ],
   "source": [
    "proportions_ztest(count,nobs,value)"
   ]
  },
  {
   "cell_type": "markdown",
   "id": "4cbf557a-7af8-4063-986e-3964f5a6b27a",
   "metadata": {},
   "source": [
    "# Bağımsız İki Örneklem T Testi"
   ]
  },
  {
   "cell_type": "markdown",
   "id": "e57090d7-5de7-4b2c-8d9a-5e3adb5c9735",
   "metadata": {},
   "source": [
    "H0: M1 = M2\n",
    "\n",
    "H1: M1 != M2"
   ]
  },
  {
   "cell_type": "code",
   "execution_count": 4,
   "id": "2a1cc7cc-2c09-47ca-9a02-fa14b061803c",
   "metadata": {},
   "outputs": [],
   "source": [
    "#VERI TIPI I"
   ]
  },
  {
   "cell_type": "code",
   "execution_count": 9,
   "id": "31082d78-cf04-4482-9eca-3d7bee23dc24",
   "metadata": {},
   "outputs": [
    {
     "data": {
      "text/html": [
       "<div>\n",
       "<style scoped>\n",
       "    .dataframe tbody tr th:only-of-type {\n",
       "        vertical-align: middle;\n",
       "    }\n",
       "\n",
       "    .dataframe tbody tr th {\n",
       "        vertical-align: top;\n",
       "    }\n",
       "\n",
       "    .dataframe thead th {\n",
       "        text-align: right;\n",
       "    }\n",
       "</style>\n",
       "<table border=\"1\" class=\"dataframe\">\n",
       "  <thead>\n",
       "    <tr style=\"text-align: right;\">\n",
       "      <th></th>\n",
       "      <th>A</th>\n",
       "      <th>B</th>\n",
       "    </tr>\n",
       "  </thead>\n",
       "  <tbody>\n",
       "    <tr>\n",
       "      <th>0</th>\n",
       "      <td>30</td>\n",
       "      <td>37</td>\n",
       "    </tr>\n",
       "    <tr>\n",
       "      <th>1</th>\n",
       "      <td>27</td>\n",
       "      <td>39</td>\n",
       "    </tr>\n",
       "    <tr>\n",
       "      <th>2</th>\n",
       "      <td>21</td>\n",
       "      <td>31</td>\n",
       "    </tr>\n",
       "    <tr>\n",
       "      <th>3</th>\n",
       "      <td>27</td>\n",
       "      <td>31</td>\n",
       "    </tr>\n",
       "    <tr>\n",
       "      <th>4</th>\n",
       "      <td>29</td>\n",
       "      <td>34</td>\n",
       "    </tr>\n",
       "  </tbody>\n",
       "</table>\n",
       "</div>"
      ],
      "text/plain": [
       "    A   B\n",
       "0  30  37\n",
       "1  27  39\n",
       "2  21  31\n",
       "3  27  31\n",
       "4  29  34"
      ]
     },
     "execution_count": 9,
     "metadata": {},
     "output_type": "execute_result"
    }
   ],
   "source": [
    "import pandas as pd\n",
    "import numpy as np\n",
    "A = pd.DataFrame([30,27,21,27,29,30,20,20,27,32,35,22,24,23,25,27,23,27,23,\n",
    "                 25,21,18,24,26,33,26,27,28,19,25])\n",
    "B = pd.DataFrame([37,39,31,31,34,38,30,36,29,28,38,28,37,37,30,32,31,31,27,\n",
    "                 32,33,33,33,31,32,33,26,32,33,29])\n",
    "\n",
    "A_B = pd.concat([A, B], axis=1)\n",
    "A_B.columns = [\"A\",\"B\"]\n",
    "A_B.head()"
   ]
  },
  {
   "cell_type": "code",
   "execution_count": 7,
   "id": "0b28b1c1-af69-4078-bf71-bb935c49f241",
   "metadata": {},
   "outputs": [],
   "source": [
    "# VERI TIPI II"
   ]
  },
  {
   "cell_type": "code",
   "execution_count": 11,
   "id": "8064803b-1b55-45e9-b6b8-285ceaad3db3",
   "metadata": {},
   "outputs": [
    {
     "name": "stdout",
     "output_type": "stream",
     "text": [
      "   gelir GRUP\n",
      "0     30    A\n",
      "1     27    A\n",
      "2     21    A\n",
      "3     27    A\n",
      "4     29    A\n",
      "    gelir GRUP\n",
      "25     33    B\n",
      "26     26    B\n",
      "27     32    B\n",
      "28     33    B\n",
      "29     29    B\n"
     ]
    }
   ],
   "source": [
    "A = pd.DataFrame([30,27,21,27,29,30,20,20,27,32,35,22,24,23,25,27,23,27,23,\n",
    "                 25,21,18,24,26,33,26,27,28,19,25])\n",
    "B = pd.DataFrame([37,39,31,31,34,38,30,36,29,28,38,28,37,37,30,32,31,31,27,\n",
    "                 32,33,33,33,31,32,33,26,32,33,29])\n",
    "\n",
    "#A ve A'nın grubu\n",
    "GRUP_A = np.arange(len(A))\n",
    "GRUP_A = pd.DataFrame(GRUP_A)\n",
    "GRUP_A[:]= \"A\"\n",
    "A = pd.concat([A, GRUP_A], axis=1)\n",
    "\n",
    "#B ve B'nin grubu\n",
    "\n",
    "GRUP_B = np.arange(len(B))\n",
    "GRUP_B = pd.DataFrame(GRUP_B)\n",
    "GRUP_B[:]= \"B\"\n",
    "B = pd.concat([B, GRUP_B], axis=1)\n",
    "\n",
    "#Tum veri\n",
    "AB = pd.concat([A,B])\n",
    "AB.columns = [\"gelir\",\"GRUP\"]\n",
    "print(AB.head())\n",
    "print(AB.tail())"
   ]
  },
  {
   "cell_type": "code",
   "execution_count": 13,
   "id": "ba4e11f7-29c1-430b-a3d2-038504a246fa",
   "metadata": {},
   "outputs": [
    {
     "data": {
      "image/png": "[encoded data removed]",
      "text/plain": [
       "<Figure size 432x288 with 1 Axes>"
      ]
     },
     "metadata": {
      "needs_background": "light"
     },
     "output_type": "display_data"
    }
   ],
   "source": [
    "import seaborn as sns\n",
    "sns.boxplot(x = \"GRUP\", y = \"gelir\", data= AB);"
   ]
  },
  {
   "cell_type": "markdown",
   "id": "a2f8776c-5d23-406e-8190-02705d5df948",
   "metadata": {},
   "source": [
    "## Varsayım Kontrolü "
   ]
  },
  {
   "cell_type": "code",
   "execution_count": 14,
   "id": "7320948c-b1b8-4930-a61f-90b3bb4b572b",
   "metadata": {},
   "outputs": [
    {
     "data": {
      "text/html": [
       "<div>\n",
       "<style scoped>\n",
       "    .dataframe tbody tr th:only-of-type {\n",
       "        vertical-align: middle;\n",
       "    }\n",
       "\n",
       "    .dataframe tbody tr th {\n",
       "        vertical-align: top;\n",
       "    }\n",
       "\n",
       "    .dataframe thead th {\n",
       "        text-align: right;\n",
       "    }\n",
       "</style>\n",
       "<table border=\"1\" class=\"dataframe\">\n",
       "  <thead>\n",
       "    <tr style=\"text-align: right;\">\n",
       "      <th></th>\n",
       "      <th>A</th>\n",
       "      <th>B</th>\n",
       "    </tr>\n",
       "  </thead>\n",
       "  <tbody>\n",
       "    <tr>\n",
       "      <th>0</th>\n",
       "      <td>30</td>\n",
       "      <td>37</td>\n",
       "    </tr>\n",
       "    <tr>\n",
       "      <th>1</th>\n",
       "      <td>27</td>\n",
       "      <td>39</td>\n",
       "    </tr>\n",
       "    <tr>\n",
       "      <th>2</th>\n",
       "      <td>21</td>\n",
       "      <td>31</td>\n",
       "    </tr>\n",
       "    <tr>\n",
       "      <th>3</th>\n",
       "      <td>27</td>\n",
       "      <td>31</td>\n",
       "    </tr>\n",
       "    <tr>\n",
       "      <th>4</th>\n",
       "      <td>29</td>\n",
       "      <td>34</td>\n",
       "    </tr>\n",
       "  </tbody>\n",
       "</table>\n",
       "</div>"
      ],
      "text/plain": [
       "    A   B\n",
       "0  30  37\n",
       "1  27  39\n",
       "2  21  31\n",
       "3  27  31\n",
       "4  29  34"
      ]
     },
     "execution_count": 14,
     "metadata": {},
     "output_type": "execute_result"
    }
   ],
   "source": [
    "A_B.head()"
   ]
  },
  {
   "cell_type": "code",
   "execution_count": 15,
   "id": "32c02e27-bdd1-4b27-a9d5-33d79382b9cd",
   "metadata": {},
   "outputs": [
    {
     "data": {
      "text/html": [
       "<div>\n",
       "<style scoped>\n",
       "    .dataframe tbody tr th:only-of-type {\n",
       "        vertical-align: middle;\n",
       "    }\n",
       "\n",
       "    .dataframe tbody tr th {\n",
       "        vertical-align: top;\n",
       "    }\n",
       "\n",
       "    .dataframe thead th {\n",
       "        text-align: right;\n",
       "    }\n",
       "</style>\n",
       "<table border=\"1\" class=\"dataframe\">\n",
       "  <thead>\n",
       "    <tr style=\"text-align: right;\">\n",
       "      <th></th>\n",
       "      <th>gelir</th>\n",
       "      <th>GRUP</th>\n",
       "    </tr>\n",
       "  </thead>\n",
       "  <tbody>\n",
       "    <tr>\n",
       "      <th>0</th>\n",
       "      <td>30</td>\n",
       "      <td>A</td>\n",
       "    </tr>\n",
       "    <tr>\n",
       "      <th>1</th>\n",
       "      <td>27</td>\n",
       "      <td>A</td>\n",
       "    </tr>\n",
       "    <tr>\n",
       "      <th>2</th>\n",
       "      <td>21</td>\n",
       "      <td>A</td>\n",
       "    </tr>\n",
       "    <tr>\n",
       "      <th>3</th>\n",
       "      <td>27</td>\n",
       "      <td>A</td>\n",
       "    </tr>\n",
       "    <tr>\n",
       "      <th>4</th>\n",
       "      <td>29</td>\n",
       "      <td>A</td>\n",
       "    </tr>\n",
       "  </tbody>\n",
       "</table>\n",
       "</div>"
      ],
      "text/plain": [
       "   gelir GRUP\n",
       "0     30    A\n",
       "1     27    A\n",
       "2     21    A\n",
       "3     27    A\n",
       "4     29    A"
      ]
     },
     "execution_count": 15,
     "metadata": {},
     "output_type": "execute_result"
    }
   ],
   "source": [
    "AB.head()"
   ]
  },
  {
   "cell_type": "code",
   "execution_count": 16,
   "id": "1033beb9-ed17-40b2-bac0-2387c482d5ea",
   "metadata": {},
   "outputs": [],
   "source": [
    "#normallik varsayımı"
   ]
  },
  {
   "cell_type": "code",
   "execution_count": 22,
   "id": "270185b8-58dd-41a1-9917-405c16e5c417",
   "metadata": {},
   "outputs": [],
   "source": [
    "from scipy.stats import shapiro"
   ]
  },
  {
   "cell_type": "code",
   "execution_count": 18,
   "id": "2022ca65-2803-4864-829e-2a89ccec934d",
   "metadata": {},
   "outputs": [
    {
     "data": {
      "text/plain": [
       "ShapiroResult(statistic=0.9789242148399353, pvalue=0.7962799668312073)"
      ]
     },
     "execution_count": 18,
     "metadata": {},
     "output_type": "execute_result"
    }
   ],
   "source": [
    "shapiro(A_B.A)"
   ]
  },
  {
   "cell_type": "code",
   "execution_count": 19,
   "id": "3cfc6c74-7fe0-4995-bd3b-7f505a9aad59",
   "metadata": {},
   "outputs": [
    {
     "data": {
      "text/plain": [
       "ShapiroResult(statistic=0.9561260342597961, pvalue=0.24584221839904785)"
      ]
     },
     "execution_count": 19,
     "metadata": {},
     "output_type": "execute_result"
    }
   ],
   "source": [
    "shapiro(A_B.B)"
   ]
  },
  {
   "cell_type": "code",
   "execution_count": 20,
   "id": "75c2459a-61d1-4a89-bcb5-6985a549ede3",
   "metadata": {},
   "outputs": [],
   "source": [
    "#varyans homojenliği varsayımı"
   ]
  },
  {
   "cell_type": "markdown",
   "id": "05173a4d-0f53-4767-ab2b-3df7bfadeda2",
   "metadata": {},
   "source": [
    "H0:aryanslar Homojendir\n",
    "\n",
    "H1:Varyanslar Homojen Değildir."
   ]
  },
  {
   "cell_type": "code",
   "execution_count": 25,
   "id": "08bd944e-bb01-4adc-9d59-52a16f66c263",
   "metadata": {},
   "outputs": [],
   "source": [
    "import scipy.stats as stats"
   ]
  },
  {
   "cell_type": "code",
   "execution_count": 26,
   "id": "2d840a39-a2a3-4b6f-91f2-c43e4bcf6207",
   "metadata": {},
   "outputs": [
    {
     "data": {
      "text/plain": [
       "LeveneResult(statistic=1.1101802757158004, pvalue=0.2964124900636569)"
      ]
     },
     "execution_count": 26,
     "metadata": {},
     "output_type": "execute_result"
    }
   ],
   "source": [
    "stats.levene(A_B.A, A_B.B)"
   ]
  },
  {
   "cell_type": "markdown",
   "id": "5fa28df8-96a4-43a1-86d8-e710a644199b",
   "metadata": {},
   "source": [
    "## Hipotez Testi"
   ]
  },
  {
   "cell_type": "code",
   "execution_count": 27,
   "id": "2c4b7822-c288-4d14-bf18-d20c02fee76d",
   "metadata": {},
   "outputs": [
    {
     "data": {
      "text/plain": [
       "Ttest_indResult(statistic=-7.028690967745927, pvalue=2.6233215605475075e-09)"
      ]
     },
     "execution_count": 27,
     "metadata": {},
     "output_type": "execute_result"
    }
   ],
   "source": [
    "stats.ttest_ind(A_B[\"A\"], A_B[\"B\"], equal_var=True)"
   ]
  },
  {
   "cell_type": "code",
   "execution_count": 29,
   "id": "7952e82f-2d32-44f2-ae0b-561f1ad6c8df",
   "metadata": {},
   "outputs": [
    {
     "name": "stdout",
     "output_type": "stream",
     "text": [
      "Test istatistiği = -7.0287, p-değeri = 0.0000\n"
     ]
    }
   ],
   "source": [
    "test_istatistigi, pvalue = stats.ttest_ind(A_B[\"A\"], A_B[\"B\"], equal_var=True)\n",
    "print(\"Test istatistiği = %.4f, p-değeri = %.4f\" % (test_istatistigi, pvalue))"
   ]
  },
  {
   "cell_type": "code",
   "execution_count": 30,
   "id": "5feba92f-5b1d-4d69-91da-798449240240",
   "metadata": {},
   "outputs": [],
   "source": [
    "#varsayalım ki bu 2 varsayım testinin sonucu negatif oldu "
   ]
  },
  {
   "cell_type": "markdown",
   "id": "1db928ce-e15f-4148-a818-6f0d92f96727",
   "metadata": {},
   "source": [
    "## Nonparametrik Bağımsız İki Örneklem Testi"
   ]
  },
  {
   "cell_type": "code",
   "execution_count": 31,
   "id": "391f75c1-e74a-4346-b1f9-f947faa41bb9",
   "metadata": {},
   "outputs": [
    {
     "data": {
      "text/plain": [
       "MannwhitneyuResult(statistic=89.5, pvalue=4.778975189306267e-08)"
      ]
     },
     "execution_count": 31,
     "metadata": {},
     "output_type": "execute_result"
    }
   ],
   "source": [
    "stats.mannwhitneyu(A_B[\"A\"], A_B[\"B\"])"
   ]
  },
  {
   "cell_type": "code",
   "execution_count": 33,
   "id": "36d885cb-05bb-4a35-8bfc-30acc0e881a2",
   "metadata": {},
   "outputs": [
    {
     "name": "stdout",
     "output_type": "stream",
     "text": [
      "Test istatistiği = 89.5000, p-değeri = 0.0000\n"
     ]
    }
   ],
   "source": [
    "test_istatistigi, pvalue = stats.mannwhitneyu(A_B[\"A\"], A_B[\"B\"])\n",
    "print(\"Test istatistiği = %.4f, p-değeri = %.4f\" % (test_istatistigi, pvalue))"
   ]
  },
  {
   "cell_type": "markdown",
   "id": "039bdd5b-443d-4b73-a6ca-8076b4807a67",
   "metadata": {},
   "source": [
    "# Bağımlı İki Örneklem T Testi"
   ]
  },
  {
   "cell_type": "code",
   "execution_count": 11,
   "id": "35d94ffb-abef-43db-b4d2-b39560535794",
   "metadata": {},
   "outputs": [],
   "source": [
    "import pandas as pd\n",
    "import numpy as np\n",
    "import seaborn as sns\n",
    "oncesi = pd.DataFrame([123,119,119,116,123,123,121,120,117,118,121,121,123,119,\n",
    "                      121,118,124,121,125,115,115,119,118,121,117,117,120,120,\n",
    "                      121,117,118,117,123,118,124,121,115,118,125,115])\n",
    "\n",
    "sonrasi = pd.DataFrame([118,127,122,132,129,123,129,132,128,130,128,138,140,130,\n",
    "                       134,134,124,140,13,129,129,138,134,124,122,126,133,127,\n",
    "                       130,130,130,132,117,130,125,129,133,120,127,123])"
   ]
  },
  {
   "cell_type": "code",
   "execution_count": 5,
   "id": "10811099-77aa-41a8-8a18-8894c98e3508",
   "metadata": {},
   "outputs": [
    {
     "data": {
      "text/html": [
       "<div>\n",
       "<style scoped>\n",
       "    .dataframe tbody tr th:only-of-type {\n",
       "        vertical-align: middle;\n",
       "    }\n",
       "\n",
       "    .dataframe tbody tr th {\n",
       "        vertical-align: top;\n",
       "    }\n",
       "\n",
       "    .dataframe thead th {\n",
       "        text-align: right;\n",
       "    }\n",
       "</style>\n",
       "<table border=\"1\" class=\"dataframe\">\n",
       "  <thead>\n",
       "    <tr style=\"text-align: right;\">\n",
       "      <th></th>\n",
       "      <th>0</th>\n",
       "    </tr>\n",
       "  </thead>\n",
       "  <tbody>\n",
       "    <tr>\n",
       "      <th>0</th>\n",
       "      <td>123</td>\n",
       "    </tr>\n",
       "    <tr>\n",
       "      <th>1</th>\n",
       "      <td>119</td>\n",
       "    </tr>\n",
       "    <tr>\n",
       "      <th>2</th>\n",
       "      <td>119</td>\n",
       "    </tr>\n",
       "    <tr>\n",
       "      <th>3</th>\n",
       "      <td>116</td>\n",
       "    </tr>\n",
       "    <tr>\n",
       "      <th>4</th>\n",
       "      <td>123</td>\n",
       "    </tr>\n",
       "  </tbody>\n",
       "</table>\n",
       "</div>"
      ],
      "text/plain": [
       "     0\n",
       "0  123\n",
       "1  119\n",
       "2  119\n",
       "3  116\n",
       "4  123"
      ]
     },
     "execution_count": 5,
     "metadata": {},
     "output_type": "execute_result"
    }
   ],
   "source": [
    "oncesi[0:5]"
   ]
  },
  {
   "cell_type": "code",
   "execution_count": 6,
   "id": "be72de09-d6f2-4768-8c10-deaddc1a66b9",
   "metadata": {},
   "outputs": [
    {
     "data": {
      "text/html": [
       "<div>\n",
       "<style scoped>\n",
       "    .dataframe tbody tr th:only-of-type {\n",
       "        vertical-align: middle;\n",
       "    }\n",
       "\n",
       "    .dataframe tbody tr th {\n",
       "        vertical-align: top;\n",
       "    }\n",
       "\n",
       "    .dataframe thead th {\n",
       "        text-align: right;\n",
       "    }\n",
       "</style>\n",
       "<table border=\"1\" class=\"dataframe\">\n",
       "  <thead>\n",
       "    <tr style=\"text-align: right;\">\n",
       "      <th></th>\n",
       "      <th>0</th>\n",
       "    </tr>\n",
       "  </thead>\n",
       "  <tbody>\n",
       "    <tr>\n",
       "      <th>0</th>\n",
       "      <td>118</td>\n",
       "    </tr>\n",
       "    <tr>\n",
       "      <th>1</th>\n",
       "      <td>127</td>\n",
       "    </tr>\n",
       "    <tr>\n",
       "      <th>2</th>\n",
       "      <td>122</td>\n",
       "    </tr>\n",
       "    <tr>\n",
       "      <th>3</th>\n",
       "      <td>132</td>\n",
       "    </tr>\n",
       "    <tr>\n",
       "      <th>4</th>\n",
       "      <td>129</td>\n",
       "    </tr>\n",
       "  </tbody>\n",
       "</table>\n",
       "</div>"
      ],
      "text/plain": [
       "     0\n",
       "0  118\n",
       "1  127\n",
       "2  122\n",
       "3  132\n",
       "4  129"
      ]
     },
     "execution_count": 6,
     "metadata": {},
     "output_type": "execute_result"
    }
   ],
   "source": [
    "sonrasi[0:5]"
   ]
  },
  {
   "cell_type": "code",
   "execution_count": 12,
   "id": "61186f97-dba1-4cd0-b538-837d7b624707",
   "metadata": {},
   "outputs": [
    {
     "name": "stdout",
     "output_type": "stream",
     "text": [
      "'AYRIK' Veri Seti: \n",
      "\n",
      "    ONCESI  SONRASI\n",
      "0     123      118\n",
      "1     119      127\n",
      "2     119      122\n",
      "3     116      132\n",
      "4     123      129 \n",
      "\n",
      "\n",
      "'BIRLIKTE' Veri Seti: \n",
      "\n",
      "    PERFORMANS ONCESI_SONRASI\n",
      "0         123         ONCESI\n",
      "1         119         ONCESI\n",
      "2         119         ONCESI\n",
      "3         116         ONCESI\n",
      "4         123         ONCESI \n",
      "\n"
     ]
    }
   ],
   "source": [
    "# BIRINCI VERI SETI\n",
    "AYRIK = pd.concat([oncesi, sonrasi], axis=1)\n",
    "AYRIK.columns =[\"ONCESI\",\"SONRASI\"]\n",
    "print(\"'AYRIK' Veri Seti: \\n\\n\", AYRIK.head(), \"\\n\\n\")\n",
    "\n",
    "\n",
    "# IKINCI VERI SETI\n",
    "# ONCESI FLAG/TAG'INI OLUSTURMA\n",
    "GRUP_ONCESI = np.arange(len(oncesi))\n",
    "GRUP_ONCESI = pd.DataFrame(GRUP_ONCESI)\n",
    "GRUP_ONCESI[:] = \"ONCESI\"\n",
    "# FLAG VE ONCESI DEGERINI BİR ARAYA GETRIRME\n",
    "A = pd.concat([oncesi, GRUP_ONCESI], axis=1)\n",
    "#SONRASI FLAG/TAG'INI OLUSTURMA\n",
    "GRUP_SONRASI = np.arange(len(sonrasi))\n",
    "GRUP_SONRASI = pd.DataFrame(GRUP_SONRASI)\n",
    "GRUP_SONRASI[:] = \"SONRASI\"\n",
    "#FLAG VE SONRASI DEGERLERINI BIR ARAYA GETIRME \n",
    "B =pd.concat([sonrasi, GRUP_SONRASI], axis=1)\n",
    "# TUM VERIYI BIR ARAYA GETIRME\n",
    "BIRLIKTE = pd.concat([A,B])\n",
    "BIRLIKTE\n",
    "\n",
    "#ISIMLENDIRME\n",
    "BIRLIKTE.columns = [\"PERFORMANS\",\"ONCESI_SONRASI\"]\n",
    "print(\"'BIRLIKTE' Veri Seti: \\n\\n\", BIRLIKTE.head(), \"\\n\")"
   ]
  },
  {
   "cell_type": "code",
   "execution_count": 14,
   "id": "368af1a4-89d1-4eab-8145-f338c63a519c",
   "metadata": {},
   "outputs": [
    {
     "data": {
      "image/png": "[encoded data removed]",
      "text/plain": [
       "<Figure size 432x288 with 1 Axes>"
      ]
     },
     "metadata": {
      "needs_background": "light"
     },
     "output_type": "display_data"
    }
   ],
   "source": [
    "sns.boxplot(x = \"ONCESI_SONRASI\", y = \"PERFORMANS\", data = BIRLIKTE);"
   ]
  },
  {
   "cell_type": "markdown",
   "id": "14f8fad4-ff70-4081-b096-a45ba08baba7",
   "metadata": {},
   "source": [
    "## Varsayım Kontrolleri"
   ]
  },
  {
   "cell_type": "code",
   "execution_count": 15,
   "id": "1f9c84db-08f1-4753-b07c-ed7be8f755c3",
   "metadata": {},
   "outputs": [],
   "source": [
    "from scipy.stats import shapiro"
   ]
  },
  {
   "cell_type": "code",
   "execution_count": 16,
   "id": "2124a2cf-af9b-4dd7-ac95-7e436ac411d8",
   "metadata": {},
   "outputs": [
    {
     "data": {
      "text/plain": [
       "ShapiroResult(statistic=0.9543656706809998, pvalue=0.10722451657056808)"
      ]
     },
     "execution_count": 16,
     "metadata": {},
     "output_type": "execute_result"
    }
   ],
   "source": [
    "shapiro(AYRIK.ONCESI)  "
   ]
  },
  {
   "cell_type": "code",
   "execution_count": 17,
   "id": "53f0ca8f-737e-4a38-954a-f403f72b125c",
   "metadata": {},
   "outputs": [
    {
     "data": {
      "text/plain": [
       "ShapiroResult(statistic=0.3922382593154907, pvalue=1.115350867220144e-11)"
      ]
     },
     "execution_count": 17,
     "metadata": {},
     "output_type": "execute_result"
    }
   ],
   "source": [
    "shapiro(AYRIK.SONRASI)  "
   ]
  },
  {
   "cell_type": "code",
   "execution_count": 18,
   "id": "82b18e0c-6044-4901-90aa-ac994be6d767",
   "metadata": {},
   "outputs": [
    {
     "data": {
      "text/plain": [
       "LeveneResult(statistic=2.5000812045670227, pvalue=0.11788724418326554)"
      ]
     },
     "execution_count": 18,
     "metadata": {},
     "output_type": "execute_result"
    }
   ],
   "source": [
    "import scipy.stats as stats\n",
    "stats.levene(AYRIK.ONCESI, AYRIK.SONRASI)"
   ]
  },
  {
   "cell_type": "markdown",
   "id": "8adf4fb4-03c9-4a08-8c02-d804af63a727",
   "metadata": {},
   "source": [
    "## Hipotez Testi"
   ]
  },
  {
   "cell_type": "code",
   "execution_count": 19,
   "id": "25a4192e-84d8-440b-bbb6-7e2c767d8d85",
   "metadata": {},
   "outputs": [
    {
     "data": {
      "text/plain": [
       "Ttest_relResult(statistic=-1.9785219399584817, pvalue=0.05496366305957495)"
      ]
     },
     "execution_count": 19,
     "metadata": {},
     "output_type": "execute_result"
    }
   ],
   "source": [
    "stats.ttest_rel(AYRIK.ONCESI, AYRIK.SONRASI)"
   ]
  },
  {
   "cell_type": "code",
   "execution_count": 21,
   "id": "674bc907-18ed-4551-b439-fcd0acac51e3",
   "metadata": {},
   "outputs": [
    {
     "name": "stdout",
     "output_type": "stream",
     "text": [
      "Test İstatistiği = -1.9785, p-degeri = 0.0550\n"
     ]
    }
   ],
   "source": [
    "test_istatistigi, pvalue = stats.ttest_rel(AYRIK[\"ONCESI\"], AYRIK[\"SONRASI\"])\n",
    "print('Test İstatistiği = %.4f, p-degeri = %.4f' % (test_istatistigi, pvalue))"
   ]
  },
  {
   "cell_type": "markdown",
   "id": "7ec07bae-9548-4b3a-a9b4-970ee8e79839",
   "metadata": {},
   "source": [
    "## Nonparametrik Bağımlı İki Örneklem Testi"
   ]
  },
  {
   "cell_type": "code",
   "execution_count": 22,
   "id": "ca7097aa-82f4-4693-80cb-469bf53f0a4a",
   "metadata": {},
   "outputs": [
    {
     "data": {
      "text/plain": [
       "WilcoxonResult(statistic=53.0, pvalue=4.089636943318552e-06)"
      ]
     },
     "execution_count": 22,
     "metadata": {},
     "output_type": "execute_result"
    }
   ],
   "source": [
    "stats.wilcoxon(AYRIK.ONCESI, AYRIK.SONRASI)"
   ]
  },
  {
   "cell_type": "code",
   "execution_count": 23,
   "id": "d681d2e2-5154-4a6c-bbc9-4198e17f8b82",
   "metadata": {},
   "outputs": [
    {
     "name": "stdout",
     "output_type": "stream",
     "text": [
      "Test İstatistiği = 53.0000, p-degeri = 0.0000\n"
     ]
    }
   ],
   "source": [
    "test_istatistigi, pvalue = stats.wilcoxon(AYRIK[\"ONCESI\"], AYRIK[\"SONRASI\"])\n",
    "print('Test İstatistiği = %.4f, p-degeri = %.4f' % (test_istatistigi, pvalue))"
   ]
  },
  {
   "cell_type": "markdown",
   "id": "0b422e98-9872-4c19-a8a4-cc3409ea801b",
   "metadata": {},
   "source": [
    "## İş Uygulaması: Kullanıcı Arayüzü Deneyi(AB Testi)"
   ]
  },
  {
   "cell_type": "markdown",
   "id": "04e37a1d-ee27-4289-be4b-3c305cfa09af",
   "metadata": {},
   "source": [
    "#### Kırmızı buton mu Yeşil buton mu?"
   ]
  },
  {
   "cell_type": "markdown",
   "id": "ff370a46-9b32-4255-8897-956d70d361a4",
   "metadata": {},
   "source": [
    "Yeşil buton --> 1000 görüntülenme ve 300 tıklanma\n",
    "\n",
    "Kırmzıı Buton --> 1100 görüntülenme ve 250 tıklama\n",
    "\n",
    "H0: p1<=p2\n",
    "\n",
    "H1: p1>p2"
   ]
  },
  {
   "cell_type": "markdown",
   "id": "f60c7178-7415-415a-b4e5-fbfa3c7ab963",
   "metadata": {},
   "source": [
    "### İki Örneklem Oran Testi"
   ]
  },
  {
   "cell_type": "code",
   "execution_count": 24,
   "id": "3867a8df-3c31-46f3-83b8-e0fda760e986",
   "metadata": {},
   "outputs": [],
   "source": [
    "from statsmodels.stats.proportion import proportions_ztest"
   ]
  },
  {
   "cell_type": "code",
   "execution_count": 27,
   "id": "a4e3fdd6-dc92-4a22-8ff9-f2b9a77e4c36",
   "metadata": {},
   "outputs": [],
   "source": [
    "basari_sayisi = np.array([300, 250])\n",
    "gozlem_sayilari = np.array([1000, 1100])"
   ]
  },
  {
   "cell_type": "code",
   "execution_count": 28,
   "id": "36666e65-8c9e-46d1-9ffc-06b125fa317e",
   "metadata": {},
   "outputs": [
    {
     "data": {
      "text/plain": [
       "(3.7857863233209255, 0.0001532232957772221)"
      ]
     },
     "execution_count": 28,
     "metadata": {},
     "output_type": "execute_result"
    }
   ],
   "source": [
    "proportions_ztest(count = basari_sayisi, nobs = gozlem_sayilari)"
   ]
  },
  {
   "cell_type": "code",
   "execution_count": 29,
   "id": "774aef6f-42d7-47e6-9226-139fee892660",
   "metadata": {},
   "outputs": [],
   "source": [
    "# p value değerimiz 0.05ten küçük olduğu için H0 hipotezimiz reddedilir"
   ]
  },
  {
   "cell_type": "markdown",
   "id": "82da0a57-6447-4e02-85d7-25f779dfeb07",
   "metadata": {},
   "source": [
    "# Varyans Analizi"
   ]
  },
  {
   "cell_type": "code",
   "execution_count": 30,
   "id": "8d7a1706-914d-4358-a5f7-21bd5903adaf",
   "metadata": {},
   "outputs": [
    {
     "data": {
      "text/html": [
       "<div>\n",
       "<style scoped>\n",
       "    .dataframe tbody tr th:only-of-type {\n",
       "        vertical-align: middle;\n",
       "    }\n",
       "\n",
       "    .dataframe tbody tr th {\n",
       "        vertical-align: top;\n",
       "    }\n",
       "\n",
       "    .dataframe thead th {\n",
       "        text-align: right;\n",
       "    }\n",
       "</style>\n",
       "<table border=\"1\" class=\"dataframe\">\n",
       "  <thead>\n",
       "    <tr style=\"text-align: right;\">\n",
       "      <th></th>\n",
       "      <th>GRUP_A</th>\n",
       "      <th>GRUP_B</th>\n",
       "      <th>GRUP_C</th>\n",
       "    </tr>\n",
       "  </thead>\n",
       "  <tbody>\n",
       "    <tr>\n",
       "      <th>0</th>\n",
       "      <td>28</td>\n",
       "      <td>31</td>\n",
       "      <td>40</td>\n",
       "    </tr>\n",
       "    <tr>\n",
       "      <th>1</th>\n",
       "      <td>33</td>\n",
       "      <td>32</td>\n",
       "      <td>33</td>\n",
       "    </tr>\n",
       "    <tr>\n",
       "      <th>2</th>\n",
       "      <td>30</td>\n",
       "      <td>30</td>\n",
       "      <td>38</td>\n",
       "    </tr>\n",
       "    <tr>\n",
       "      <th>3</th>\n",
       "      <td>29</td>\n",
       "      <td>30</td>\n",
       "      <td>41</td>\n",
       "    </tr>\n",
       "    <tr>\n",
       "      <th>4</th>\n",
       "      <td>28</td>\n",
       "      <td>33</td>\n",
       "      <td>42</td>\n",
       "    </tr>\n",
       "  </tbody>\n",
       "</table>\n",
       "</div>"
      ],
      "text/plain": [
       "   GRUP_A  GRUP_B  GRUP_C\n",
       "0      28      31      40\n",
       "1      33      32      33\n",
       "2      30      30      38\n",
       "3      29      30      41\n",
       "4      28      33      42"
      ]
     },
     "execution_count": 30,
     "metadata": {},
     "output_type": "execute_result"
    }
   ],
   "source": [
    "A = pd.DataFrame([28,33,30,29,28,29,27,31,30,32,28,33,25,29,27,31,31,30,31,34,30,32,31])\n",
    "B = pd.DataFrame([31,32,30,30,33,32,34,27,36,30,31,30,38,29,30,34,34,31,35,35,33,30,28])\n",
    "C = pd.DataFrame([40,33,38,41,42,43,38,35,39,39,36,34,35,40,38,36,39,36,33,35,38,35,40])\n",
    "\n",
    "dfs = [A, B, C]\n",
    "\n",
    "ABC = pd.concat(dfs, axis=1)\n",
    "ABC.columns = [\"GRUP_A\",\"GRUP_B\",\"GRUP_C\"]\n",
    "ABC.head()"
   ]
  },
  {
   "cell_type": "markdown",
   "id": "b7328144-378b-45d9-91c2-6ab2134115c3",
   "metadata": {},
   "source": [
    "## Varsayım Kontrolü"
   ]
  },
  {
   "cell_type": "code",
   "execution_count": 31,
   "id": "6928ebf4-207c-455b-b99e-16be3604d961",
   "metadata": {},
   "outputs": [],
   "source": [
    "from scipy.stats import shapiro"
   ]
  },
  {
   "cell_type": "code",
   "execution_count": 32,
   "id": "331abe17-68b2-45a6-b476-c1a4d224c4a4",
   "metadata": {},
   "outputs": [
    {
     "data": {
      "text/plain": [
       "ShapiroResult(statistic=0.977165162563324, pvalue=0.8526773452758789)"
      ]
     },
     "execution_count": 32,
     "metadata": {},
     "output_type": "execute_result"
    }
   ],
   "source": [
    "shapiro(ABC[\"GRUP_A\"])"
   ]
  },
  {
   "cell_type": "code",
   "execution_count": 33,
   "id": "bbe36be2-ed9b-423c-a479-1bfbdea7b90b",
   "metadata": {},
   "outputs": [
    {
     "data": {
      "text/plain": [
       "ShapiroResult(statistic=0.9653157591819763, pvalue=0.5784776210784912)"
      ]
     },
     "execution_count": 33,
     "metadata": {},
     "output_type": "execute_result"
    }
   ],
   "source": [
    "shapiro(ABC[\"GRUP_B\"])"
   ]
  },
  {
   "cell_type": "code",
   "execution_count": 34,
   "id": "f64bd953-0b7c-4427-b70c-c09fdb706f0d",
   "metadata": {},
   "outputs": [
    {
     "data": {
      "text/plain": [
       "ShapiroResult(statistic=0.9604302644729614, pvalue=0.4721103310585022)"
      ]
     },
     "execution_count": 34,
     "metadata": {},
     "output_type": "execute_result"
    }
   ],
   "source": [
    "shapiro(ABC[\"GRUP_C\"])"
   ]
  },
  {
   "cell_type": "code",
   "execution_count": 35,
   "id": "7d14f86a-36d0-47ea-acb0-cae0bcbedb7b",
   "metadata": {},
   "outputs": [
    {
     "data": {
      "text/plain": [
       "LeveneResult(statistic=0.9446786090621706, pvalue=0.3939978753114075)"
      ]
     },
     "execution_count": 35,
     "metadata": {},
     "output_type": "execute_result"
    }
   ],
   "source": [
    "stats.levene(ABC[\"GRUP_A\"], ABC[\"GRUP_B\"], ABC[\"GRUP_C\"])"
   ]
  },
  {
   "cell_type": "markdown",
   "id": "ccfd2787-4a9d-49fa-b306-79d8b8a5c58f",
   "metadata": {},
   "source": [
    "## Hipotez Testi"
   ]
  },
  {
   "cell_type": "code",
   "execution_count": 36,
   "id": "724af535-10c6-4acc-b750-71ef4bd1a552",
   "metadata": {},
   "outputs": [],
   "source": [
    "from scipy.stats import f_oneway"
   ]
  },
  {
   "cell_type": "code",
   "execution_count": 37,
   "id": "b6ce55ba-ba65-48f2-998f-0dae88277a47",
   "metadata": {},
   "outputs": [
    {
     "data": {
      "text/plain": [
       "F_onewayResult(statistic=53.46714172604916, pvalue=1.566295188711795e-14)"
      ]
     },
     "execution_count": 37,
     "metadata": {},
     "output_type": "execute_result"
    }
   ],
   "source": [
    "f_oneway(ABC[\"GRUP_A\"], ABC[\"GRUP_B\"], ABC[\"GRUP_C\"])"
   ]
  },
  {
   "cell_type": "code",
   "execution_count": 38,
   "id": "162a2b2c-4960-47e2-9cc2-0cbdb965af5e",
   "metadata": {},
   "outputs": [
    {
     "name": "stdout",
     "output_type": "stream",
     "text": [
      "0.00000\n"
     ]
    }
   ],
   "source": [
    "print('{:.5f}'.format(f_oneway(ABC[\"GRUP_A\"], ABC[\"GRUP_B\"], ABC[\"GRUP_C\"])[1]))"
   ]
  },
  {
   "cell_type": "code",
   "execution_count": 39,
   "id": "05ff213a-3e38-488a-999a-a82001e9b303",
   "metadata": {},
   "outputs": [
    {
     "data": {
      "text/html": [
       "<div>\n",
       "<style scoped>\n",
       "    .dataframe tbody tr th:only-of-type {\n",
       "        vertical-align: middle;\n",
       "    }\n",
       "\n",
       "    .dataframe tbody tr th {\n",
       "        vertical-align: top;\n",
       "    }\n",
       "\n",
       "    .dataframe thead th {\n",
       "        text-align: right;\n",
       "    }\n",
       "</style>\n",
       "<table border=\"1\" class=\"dataframe\">\n",
       "  <thead>\n",
       "    <tr style=\"text-align: right;\">\n",
       "      <th></th>\n",
       "      <th>count</th>\n",
       "      <th>mean</th>\n",
       "      <th>std</th>\n",
       "      <th>min</th>\n",
       "      <th>25%</th>\n",
       "      <th>50%</th>\n",
       "      <th>75%</th>\n",
       "      <th>max</th>\n",
       "    </tr>\n",
       "  </thead>\n",
       "  <tbody>\n",
       "    <tr>\n",
       "      <th>GRUP_A</th>\n",
       "      <td>23.0</td>\n",
       "      <td>29.956522</td>\n",
       "      <td>2.184205</td>\n",
       "      <td>25.0</td>\n",
       "      <td>28.5</td>\n",
       "      <td>30.0</td>\n",
       "      <td>31.0</td>\n",
       "      <td>34.0</td>\n",
       "    </tr>\n",
       "    <tr>\n",
       "      <th>GRUP_B</th>\n",
       "      <td>23.0</td>\n",
       "      <td>31.869565</td>\n",
       "      <td>2.701924</td>\n",
       "      <td>27.0</td>\n",
       "      <td>30.0</td>\n",
       "      <td>31.0</td>\n",
       "      <td>34.0</td>\n",
       "      <td>38.0</td>\n",
       "    </tr>\n",
       "    <tr>\n",
       "      <th>GRUP_C</th>\n",
       "      <td>23.0</td>\n",
       "      <td>37.521739</td>\n",
       "      <td>2.810202</td>\n",
       "      <td>33.0</td>\n",
       "      <td>35.0</td>\n",
       "      <td>38.0</td>\n",
       "      <td>39.5</td>\n",
       "      <td>43.0</td>\n",
       "    </tr>\n",
       "  </tbody>\n",
       "</table>\n",
       "</div>"
      ],
      "text/plain": [
       "        count       mean       std   min   25%   50%   75%   max\n",
       "GRUP_A   23.0  29.956522  2.184205  25.0  28.5  30.0  31.0  34.0\n",
       "GRUP_B   23.0  31.869565  2.701924  27.0  30.0  31.0  34.0  38.0\n",
       "GRUP_C   23.0  37.521739  2.810202  33.0  35.0  38.0  39.5  43.0"
      ]
     },
     "execution_count": 39,
     "metadata": {},
     "output_type": "execute_result"
    }
   ],
   "source": [
    "ABC.describe().T"
   ]
  },
  {
   "cell_type": "markdown",
   "id": "8ec52dc2-6722-4a6a-948b-4431d7a8cadd",
   "metadata": {},
   "source": [
    "## Nonparametrik Hipotez Testi"
   ]
  },
  {
   "cell_type": "code",
   "execution_count": 40,
   "id": "a49b164c-84ba-431e-b422-f8c02d0d7813",
   "metadata": {},
   "outputs": [],
   "source": [
    "from scipy.stats import kruskal"
   ]
  },
  {
   "cell_type": "code",
   "execution_count": 41,
   "id": "83434708-5dd5-4315-a688-3d7856fdf956",
   "metadata": {},
   "outputs": [],
   "source": [
    "# normallik varsayımı ve varyans homojenliği varsayımı sağlanmadığında \"kruskal\" testini kullanırız"
   ]
  },
  {
   "cell_type": "code",
   "execution_count": 42,
   "id": "aa297319-497a-4949-b2df-9ce22f55ce55",
   "metadata": {},
   "outputs": [
    {
     "data": {
      "text/plain": [
       "KruskalResult(statistic=41.41835051661897, pvalue=1.014190318754816e-09)"
      ]
     },
     "execution_count": 42,
     "metadata": {},
     "output_type": "execute_result"
    }
   ],
   "source": [
    "kruskal(ABC[\"GRUP_A\"], ABC[\"GRUP_B\"], ABC[\"GRUP_C\"])"
   ]
  },
  {
   "cell_type": "markdown",
   "id": "194e67cc-54de-45d9-a5f2-f4714918c304",
   "metadata": {},
   "source": [
    "# Korelasyon Analizi"
   ]
  },
  {
   "cell_type": "markdown",
   "id": "e04d8325-052e-4a75-9df1-57bc342d6ebe",
   "metadata": {},
   "source": [
    "### Bahşiş ile Ödenen Hesap Arasındaki İlişki"
   ]
  },
  {
   "cell_type": "code",
   "execution_count": 43,
   "id": "5c8ce771-2b87-4840-97d4-970d31014602",
   "metadata": {},
   "outputs": [
    {
     "data": {
      "text/html": [
       "<div>\n",
       "<style scoped>\n",
       "    .dataframe tbody tr th:only-of-type {\n",
       "        vertical-align: middle;\n",
       "    }\n",
       "\n",
       "    .dataframe tbody tr th {\n",
       "        vertical-align: top;\n",
       "    }\n",
       "\n",
       "    .dataframe thead th {\n",
       "        text-align: right;\n",
       "    }\n",
       "</style>\n",
       "<table border=\"1\" class=\"dataframe\">\n",
       "  <thead>\n",
       "    <tr style=\"text-align: right;\">\n",
       "      <th></th>\n",
       "      <th>total_bill</th>\n",
       "      <th>tip</th>\n",
       "      <th>sex</th>\n",
       "      <th>smoker</th>\n",
       "      <th>day</th>\n",
       "      <th>time</th>\n",
       "      <th>size</th>\n",
       "    </tr>\n",
       "  </thead>\n",
       "  <tbody>\n",
       "    <tr>\n",
       "      <th>0</th>\n",
       "      <td>16.99</td>\n",
       "      <td>1.01</td>\n",
       "      <td>Female</td>\n",
       "      <td>No</td>\n",
       "      <td>Sun</td>\n",
       "      <td>Dinner</td>\n",
       "      <td>2</td>\n",
       "    </tr>\n",
       "    <tr>\n",
       "      <th>1</th>\n",
       "      <td>10.34</td>\n",
       "      <td>1.66</td>\n",
       "      <td>Male</td>\n",
       "      <td>No</td>\n",
       "      <td>Sun</td>\n",
       "      <td>Dinner</td>\n",
       "      <td>3</td>\n",
       "    </tr>\n",
       "    <tr>\n",
       "      <th>2</th>\n",
       "      <td>21.01</td>\n",
       "      <td>3.50</td>\n",
       "      <td>Male</td>\n",
       "      <td>No</td>\n",
       "      <td>Sun</td>\n",
       "      <td>Dinner</td>\n",
       "      <td>3</td>\n",
       "    </tr>\n",
       "    <tr>\n",
       "      <th>3</th>\n",
       "      <td>23.68</td>\n",
       "      <td>3.31</td>\n",
       "      <td>Male</td>\n",
       "      <td>No</td>\n",
       "      <td>Sun</td>\n",
       "      <td>Dinner</td>\n",
       "      <td>2</td>\n",
       "    </tr>\n",
       "    <tr>\n",
       "      <th>4</th>\n",
       "      <td>24.59</td>\n",
       "      <td>3.61</td>\n",
       "      <td>Female</td>\n",
       "      <td>No</td>\n",
       "      <td>Sun</td>\n",
       "      <td>Dinner</td>\n",
       "      <td>4</td>\n",
       "    </tr>\n",
       "  </tbody>\n",
       "</table>\n",
       "</div>"
      ],
      "text/plain": [
       "   total_bill   tip     sex smoker  day    time  size\n",
       "0       16.99  1.01  Female     No  Sun  Dinner     2\n",
       "1       10.34  1.66    Male     No  Sun  Dinner     3\n",
       "2       21.01  3.50    Male     No  Sun  Dinner     3\n",
       "3       23.68  3.31    Male     No  Sun  Dinner     2\n",
       "4       24.59  3.61  Female     No  Sun  Dinner     4"
      ]
     },
     "execution_count": 43,
     "metadata": {},
     "output_type": "execute_result"
    }
   ],
   "source": [
    "import seaborn as sns \n",
    "tips = sns.load_dataset(\"tips\")\n",
    "df = tips.copy()\n",
    "df.head()"
   ]
  },
  {
   "cell_type": "code",
   "execution_count": 44,
   "id": "75c918bc-7fd3-4804-96cb-ee1568c78506",
   "metadata": {},
   "outputs": [],
   "source": [
    "# toplam hesabın içinde bahşişler de var bu durumu nasıl giderebiliriz?"
   ]
  },
  {
   "cell_type": "code",
   "execution_count": 45,
   "id": "d61c1dde-96c4-4178-b29d-2d3886dbe171",
   "metadata": {},
   "outputs": [],
   "source": [
    "df[\"total_bill\"] = df[\"total_bill\"] - df[\"tip\"]"
   ]
  },
  {
   "cell_type": "code",
   "execution_count": 46,
   "id": "43533da8-10ae-4f04-93a5-80d4ffc2318a",
   "metadata": {},
   "outputs": [
    {
     "data": {
      "text/html": [
       "<div>\n",
       "<style scoped>\n",
       "    .dataframe tbody tr th:only-of-type {\n",
       "        vertical-align: middle;\n",
       "    }\n",
       "\n",
       "    .dataframe tbody tr th {\n",
       "        vertical-align: top;\n",
       "    }\n",
       "\n",
       "    .dataframe thead th {\n",
       "        text-align: right;\n",
       "    }\n",
       "</style>\n",
       "<table border=\"1\" class=\"dataframe\">\n",
       "  <thead>\n",
       "    <tr style=\"text-align: right;\">\n",
       "      <th></th>\n",
       "      <th>total_bill</th>\n",
       "      <th>tip</th>\n",
       "      <th>sex</th>\n",
       "      <th>smoker</th>\n",
       "      <th>day</th>\n",
       "      <th>time</th>\n",
       "      <th>size</th>\n",
       "    </tr>\n",
       "  </thead>\n",
       "  <tbody>\n",
       "    <tr>\n",
       "      <th>0</th>\n",
       "      <td>15.98</td>\n",
       "      <td>1.01</td>\n",
       "      <td>Female</td>\n",
       "      <td>No</td>\n",
       "      <td>Sun</td>\n",
       "      <td>Dinner</td>\n",
       "      <td>2</td>\n",
       "    </tr>\n",
       "    <tr>\n",
       "      <th>1</th>\n",
       "      <td>8.68</td>\n",
       "      <td>1.66</td>\n",
       "      <td>Male</td>\n",
       "      <td>No</td>\n",
       "      <td>Sun</td>\n",
       "      <td>Dinner</td>\n",
       "      <td>3</td>\n",
       "    </tr>\n",
       "    <tr>\n",
       "      <th>2</th>\n",
       "      <td>17.51</td>\n",
       "      <td>3.50</td>\n",
       "      <td>Male</td>\n",
       "      <td>No</td>\n",
       "      <td>Sun</td>\n",
       "      <td>Dinner</td>\n",
       "      <td>3</td>\n",
       "    </tr>\n",
       "    <tr>\n",
       "      <th>3</th>\n",
       "      <td>20.37</td>\n",
       "      <td>3.31</td>\n",
       "      <td>Male</td>\n",
       "      <td>No</td>\n",
       "      <td>Sun</td>\n",
       "      <td>Dinner</td>\n",
       "      <td>2</td>\n",
       "    </tr>\n",
       "    <tr>\n",
       "      <th>4</th>\n",
       "      <td>20.98</td>\n",
       "      <td>3.61</td>\n",
       "      <td>Female</td>\n",
       "      <td>No</td>\n",
       "      <td>Sun</td>\n",
       "      <td>Dinner</td>\n",
       "      <td>4</td>\n",
       "    </tr>\n",
       "  </tbody>\n",
       "</table>\n",
       "</div>"
      ],
      "text/plain": [
       "   total_bill   tip     sex smoker  day    time  size\n",
       "0       15.98  1.01  Female     No  Sun  Dinner     2\n",
       "1        8.68  1.66    Male     No  Sun  Dinner     3\n",
       "2       17.51  3.50    Male     No  Sun  Dinner     3\n",
       "3       20.37  3.31    Male     No  Sun  Dinner     2\n",
       "4       20.98  3.61  Female     No  Sun  Dinner     4"
      ]
     },
     "execution_count": 46,
     "metadata": {},
     "output_type": "execute_result"
    }
   ],
   "source": [
    "df.head()"
   ]
  },
  {
   "cell_type": "code",
   "execution_count": 47,
   "id": "53f9ccca-d3e0-427e-9fc3-c0fee590bb15",
   "metadata": {},
   "outputs": [
    {
     "data": {
      "image/png": "[encoded data removed]",
      "text/plain": [
       "<Figure size 432x288 with 1 Axes>"
      ]
     },
     "metadata": {
      "needs_background": "light"
     },
     "output_type": "display_data"
    }
   ],
   "source": [
    "df.plot.scatter(\"tip\", \"total_bill\");"
   ]
  },
  {
   "cell_type": "markdown",
   "id": "22da8bfd-6925-4e46-83c0-d8a0df5b90aa",
   "metadata": {},
   "source": [
    "## Varsayım Kontrolü"
   ]
  },
  {
   "cell_type": "code",
   "execution_count": 48,
   "id": "21a266ec-cc9b-4f94-8169-7b294186b4ac",
   "metadata": {},
   "outputs": [],
   "source": [
    "from scipy.stats import shapiro"
   ]
  },
  {
   "cell_type": "code",
   "execution_count": 49,
   "id": "d7995fb2-14fc-43d9-9afc-6310f54c234b",
   "metadata": {},
   "outputs": [
    {
     "name": "stdout",
     "output_type": "stream",
     "text": [
      "Test istatistiği = 0.8978, p-değeri = 0.0000\n",
      "Test istatistiği = 0.9136, p-değeri = 0.0000\n"
     ]
    }
   ],
   "source": [
    "test_istatistigi, pvalue = shapiro(df[\"tip\"])\n",
    "print(\"Test istatistiği = %.4f, p-değeri = %.4f\" % (test_istatistigi, pvalue))\n",
    "\n",
    "test_istatistigi, pvalue = shapiro(df[\"total_bill\"])\n",
    "print(\"Test istatistiği = %.4f, p-değeri = %.4f\" % (test_istatistigi, pvalue))"
   ]
  },
  {
   "cell_type": "markdown",
   "id": "b4d01d38-d526-428f-81f0-ef2b3f769622",
   "metadata": {},
   "source": [
    "## Hipotez Testi"
   ]
  },
  {
   "cell_type": "markdown",
   "id": "5299de5e-da8a-4364-9760-7ce105d13dce",
   "metadata": {},
   "source": [
    "### Korelasyon Katsayısı"
   ]
  },
  {
   "cell_type": "code",
   "execution_count": 50,
   "id": "355c9c1f-c4c8-425a-adf7-751c7bb4cdde",
   "metadata": {},
   "outputs": [
    {
     "data": {
      "text/plain": [
       "0.5766634471096374"
      ]
     },
     "execution_count": 50,
     "metadata": {},
     "output_type": "execute_result"
    }
   ],
   "source": [
    "df[\"tip\"].corr(df[\"total_bill\"])"
   ]
  },
  {
   "cell_type": "code",
   "execution_count": 51,
   "id": "4c404d63-7d0d-4198-ab4f-68d1c6bb2a10",
   "metadata": {},
   "outputs": [
    {
     "data": {
      "text/plain": [
       "0.593691939408997"
      ]
     },
     "execution_count": 51,
     "metadata": {},
     "output_type": "execute_result"
    }
   ],
   "source": [
    "df[\"tip\"].corr(df[\"total_bill\"], method = \"spearman\")"
   ]
  },
  {
   "cell_type": "markdown",
   "id": "2a3ecce7-b444-4f87-a250-b8bc8e53bdc7",
   "metadata": {},
   "source": [
    "### Korelasyon Anlamlılığının Testi"
   ]
  },
  {
   "cell_type": "code",
   "execution_count": 52,
   "id": "62330cad-dbfd-4b77-8736-a2065e697603",
   "metadata": {},
   "outputs": [],
   "source": [
    "from scipy.stats.stats import pearsonr"
   ]
  },
  {
   "cell_type": "code",
   "execution_count": 61,
   "id": "2a908361-79be-4b6f-9c20-674c9c045336",
   "metadata": {},
   "outputs": [
    {
     "name": "stdout",
     "output_type": "stream",
     "text": [
      "Korelasyon Katsayısı = 0.5767, p-değeri = 0.0000\n"
     ]
    }
   ],
   "source": [
    "test_istatistigi, pvalue = pearsonr(df[\"tip\"],df[\"total_bill\"])\n",
    "print(\"Korelasyon Katsayısı = %.4f, p-değeri = %.4f\" % (test_istatistigi, pvalue))"
   ]
  },
  {
   "cell_type": "code",
   "execution_count": 55,
   "id": "21b9c8b3-23b6-478c-abea-e0d8fccaf66e",
   "metadata": {},
   "outputs": [],
   "source": [
    "# değikenler arasında anlamlı bir ilişki yoktur diyen H0 hipotezini reddediyoruz."
   ]
  },
  {
   "cell_type": "code",
   "execution_count": 56,
   "id": "1f07293d-9b13-4832-a370-6662c9eddabd",
   "metadata": {},
   "outputs": [],
   "source": [
    "#Yani değişkenler aarasında anlamlı bir korelasyon vardır."
   ]
  },
  {
   "cell_type": "markdown",
   "id": "2e6d6c36-0c21-4854-abeb-98497c19b2ad",
   "metadata": {},
   "source": [
    "## Nonparametrik Hipotez Testi"
   ]
  },
  {
   "cell_type": "code",
   "execution_count": 58,
   "id": "5a61ab7a-95e9-4141-bbd5-b6ca517de3f7",
   "metadata": {},
   "outputs": [
    {
     "data": {
      "text/plain": [
       "SpearmanrResult(correlation=0.593691939408997, pvalue=1.2452285137560276e-24)"
      ]
     },
     "execution_count": 58,
     "metadata": {},
     "output_type": "execute_result"
    }
   ],
   "source": [
    "from scipy.stats import stats\n",
    "stats.spearmanr(df[\"tip\"],df[\"total_bill\"])"
   ]
  },
  {
   "cell_type": "code",
   "execution_count": 60,
   "id": "d0aa11cf-1cf2-4bbf-bdd9-8e6aecf922e0",
   "metadata": {},
   "outputs": [
    {
     "name": "stdout",
     "output_type": "stream",
     "text": [
      "Korelasyon Katsayısı = 0.5937, p-değeri = 0.0000\n"
     ]
    }
   ],
   "source": [
    "test_istatistigi, pvalue = stats.spearmanr(df[\"tip\"],df[\"total_bill\"])\n",
    "print(\"Korelasyon Katsayısı = %.4f, p-değeri = %.4f\" % (test_istatistigi, pvalue))"
   ]
  },
  {
   "cell_type": "code",
   "execution_count": 62,
   "id": "f54c9c9c-9a6f-4366-b183-f0f2f3aade1b",
   "metadata": {},
   "outputs": [
    {
     "name": "stdout",
     "output_type": "stream",
     "text": [
      "Korelasyon Katsayısı = 0.4401, p-değeri = 0.0000\n"
     ]
    }
   ],
   "source": [
    "test_istatistigi, pvalue = stats.kendalltau(df[\"tip\"],df[\"total_bill\"])\n",
    "print(\"Korelasyon Katsayısı = %.4f, p-değeri = %.4f\" % (test_istatistigi, pvalue))"
   ]
  },
  {
   "cell_type": "code",
   "execution_count": null,
   "id": "4df43dda-1c9a-4f7c-9434-1974bdf8a606",
   "metadata": {},
   "outputs": [],
   "source": []
  }
 ],
 "metadata": {
  "kernelspec": {
   "display_name": "Python 3",
   "language": "python",
   "name": "python3"
  },
  "language_info": {
   "codemirror_mode": {
    "name": "ipython",
    "version": 3
   },
   "file_extension": ".py",
   "mimetype": "text/x-python",
   "name": "python",
   "nbconvert_exporter": "python",
   "pygments_lexer": "ipython3",
   "version": "3.8.8"
  }
 },
 "nbformat": 4,
 "nbformat_minor": 5
}
